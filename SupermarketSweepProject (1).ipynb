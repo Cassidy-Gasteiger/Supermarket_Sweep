{
 "cells": [
  {
   "cell_type": "code",
   "execution_count": 1,
   "id": "5bc93de5",
   "metadata": {},
   "outputs": [],
   "source": [
    "from pulp import *\n",
    "import pandas as pd"
   ]
  },
  {
   "cell_type": "code",
   "execution_count": 2,
   "id": "d0299d3b",
   "metadata": {},
   "outputs": [
    {
     "name": "stdout",
     "output_type": "stream",
     "text": [
      "C:\\Users\\cmgas\\OneDrive\\Documents\\GradSchool\\isye-6333\n"
     ]
    }
   ],
   "source": [
    "cd C:\\Users\\cmgas\\OneDrive\\Documents\\GradSchool\\isye-6333"
   ]
  },
  {
   "cell_type": "code",
   "execution_count": 3,
   "id": "f57222a0",
   "metadata": {},
   "outputs": [],
   "source": [
    "time = pd.read_csv(\"./Supermarket Sweep.csv\")\n",
    "#set the start and end node to (0,0)\n",
    "time.loc[len(time.index)] = ['End Node', 0.0, 0, 0]"
   ]
  },
  {
   "cell_type": "markdown",
   "id": "72df9244",
   "metadata": {},
   "source": [
    "## Part a. For each pair of items i, j in set [1,56], compute the shortest time to go from item i to item j as d[i][j]"
   ]
  },
  {
   "cell_type": "code",
   "execution_count": 4,
   "id": "0caca18e",
   "metadata": {},
   "outputs": [],
   "source": [
    "#initialize the distance between each item\n",
    "w, h = 58, 58\n",
    "d = [[0 for x in range(w)] for y in range(h)] "
   ]
  },
  {
   "cell_type": "code",
   "execution_count": 5,
   "id": "7d9deb12",
   "metadata": {},
   "outputs": [],
   "source": [
    "#calculate and store the shortest amount of time it will take to reach each item from every other item \n",
    "for i in range(0,58):\n",
    "    for j in range (0,58):\n",
    "        if time.iloc[i]['X Position'] == time.iloc[j]['X Position']:\n",
    "            d[i][j] = abs(time.iloc[i]['Y Position'] - time.iloc[j]['Y Position'])/10\n",
    "        else:\n",
    "            d[i][j] = min(time.iloc[i]['Y Position'] + time.iloc[j]['Y Position'],220 - (time.iloc[i]['Y Position'] + time.iloc[j]['Y Position']))/10 + abs(time.iloc[i]['X Position'] - time.iloc[j]['X Position'])/10"
   ]
  },
  {
   "cell_type": "markdown",
   "id": "a833c2d2",
   "metadata": {},
   "source": [
    "## Part c. Code and solve the Supermarket Sweep optimization problem"
   ]
  },
  {
   "cell_type": "code",
   "execution_count": 6,
   "id": "7a1b4b2b",
   "metadata": {},
   "outputs": [],
   "source": [
    "#define v as the cost variable - value of each item\n",
    "v = [0 for x in range(w)]\n",
    "for i in range(0,58):\n",
    "    v[i] = float(time.iloc[i]['Price'])"
   ]
  },
  {
   "cell_type": "code",
   "execution_count": 9,
   "id": "25229759",
   "metadata": {},
   "outputs": [],
   "source": [
    "#define the problem\n",
    "prob = LpProblem(\"Supermarketsweep\", LpMaximize)\n",
    "x = LpVariable.dicts(\"x\", (range(0,58), range(0,58)), 0, cat='Binary')\n",
    "t = LpVariable.dicts(\"t\", (range(0,58), range(0,58)), 0)\n",
    "y = LpVariable.dicts(\"y\", range(0,58), 0)\n",
    "u = LpVariable.dicts(\"u\", (range(0,58), range(0,58)), 0)\n",
    "z = LpVariable.dicts(\"z\", range(0,58), 0)\n",
    "\n",
    "#objective function: maximize the value of all items selected for the cart\n",
    "prob += z[57]\n",
    "\n",
    "#ensuring each product is selected only once\n",
    "for i in range(0,57):\n",
    "    prob += lpSum([x[i][j] for j in range(1,58)]) <= 1\n",
    "\n",
    "#ensuring the shopper arrives at each item a maximum of one time\n",
    "for j in range(1,58):\n",
    "    prob += lpSum([x[i][j] for i in range(0,57)]) <= 1\n",
    "\n",
    "#ensuring if the shopper arrives at an item, they will leave it exactly once\n",
    "for j in range(1,57):\n",
    "    prob += lpSum([x[i][j] for i in range(0,57)]) == lpSum([x[j][i] for i in range(1,58)])\n",
    "\n",
    "#connect t and x variables\n",
    "for i in range(0,58):\n",
    "\tfor j in range(0,58):\n",
    "\t\tprob += t[i][j] <= 100000*x[i][j]\n",
    "\n",
    "#initial time is = to 0\n",
    "prob += y[0] == 0\n",
    "\n",
    "#the next two constraints calculate the running sum of total time required to move to all selected items \n",
    "for j in range(1,58):\n",
    "\tprob += y[j] == lpSum([t[i][j] for i in range(0,57)])\n",
    "\n",
    "for j in range(0,57):\n",
    "\tprob += lpSum([t[j][k] for k in range(1,58)]) == y[j] + lpSum([d[j][k]*x[j][k] for k in range(1,58)])\n",
    "\n",
    "#connecting x and u variables\n",
    "for i in range(0,58):\n",
    "\tfor j in range(0,58):\n",
    "\t\tprob += u[i][j] <= 100000*x[i][j]\n",
    "\n",
    "#initial value of items picked = 0\n",
    "prob += z[0] == 0\n",
    "\n",
    "#the next two constraints calculate running sum of value of items picked for the cart\n",
    "for j in range(1,58):\n",
    "\tprob += z[j] == lpSum([u[i][j] for i in range(0,57)])\n",
    "\n",
    "for j in range(0,57):\n",
    "\tprob += lpSum([u[j][k] for k in range(1,58)]) == z[j] + lpSum([v[k]*x[j][k] for k in range(1,58)])\n",
    "\n",
    "#total number of items picked should be less than 15 (need to include the starting point, so one more than 15)\n",
    "prob += lpSum([x[i][j] for j in range(1,58) for i in range(0,57)]) <= 16\n",
    "\n",
    "#shopper must leave from the starting point\n",
    "prob += lpSum([x[0][j] for j in range(1,58)]) == 1\n",
    "\n",
    "#shopper must end at the starting point\n",
    "prob += lpSum([x[i][57] for i in range(0,57)]) == 1\n",
    "\n",
    "#shopper should not go to starting point any time during the sweep\n",
    "prob += lpSum([x[i][0] for i in range(1,58)]) == 0\n",
    "\n",
    "#shopper should not go to the end point any time during the sweep\n",
    "prob += lpSum([x[57][j] for j in range(0,57)]) == 0\n",
    "\n",
    "#shopper should not go to the same item twice\n",
    "for i in range(0,58):\n",
    "\tprob += x[i][i] == 0\n",
    "\n",
    "#total time should be less than 90s\n",
    "prob += y[57] + (lpSum([x[i][j] for j in range(1,58) for i in range(0,57)]) - 1)*2 <= 90\n",
    "\n",
    "#non-negativity constraints\n",
    "for i in range(0,58):\n",
    "\tfor j in range(0,58):\n",
    "\t\tprob += t[i][j] >= 0\n",
    "\n",
    "for i in range(0,58):\n",
    "\tfor j in range(0,58):\n",
    "\t\tprob += u[i][j] >= 0"
   ]
  },
  {
   "cell_type": "code",
   "execution_count": 10,
   "id": "26fedb55",
   "metadata": {},
   "outputs": [
    {
     "data": {
      "text/plain": [
       "1"
      ]
     },
     "execution_count": 10,
     "metadata": {},
     "output_type": "execute_result"
    }
   ],
   "source": [
    "prob.solve(GUROBI_CMD())"
   ]
  },
  {
   "cell_type": "code",
   "execution_count": 11,
   "id": "8df969ef",
   "metadata": {},
   "outputs": [
    {
     "name": "stdout",
     "output_type": "stream",
     "text": [
      "Optimal Value: 143.85\n",
      "x_0_1: 1.0\n",
      "x_1_2: 1.0\n",
      "x_2_5: 1.0\n",
      "x_5_25: 1.0\n",
      "x_21_22: 1.0\n",
      "x_22_57: 1.0\n",
      "x_25_30: 1.0\n",
      "x_26_27: 1.0\n",
      "x_27_21: 1.0\n",
      "x_30_35: 1.0\n",
      "x_32_39: 1.0\n",
      "x_33_32: 1.0\n",
      "x_35_33: 1.0\n",
      "x_38_40: 1.0\n",
      "x_39_38: 1.0\n",
      "x_40_26: 1.0\n"
     ]
    }
   ],
   "source": [
    "print('Optimal Value: {}'.format(round(value(prob.objective),2)))\n",
    "\n",
    "for i in range(0,58):\n",
    "    for j in range(0,58):\n",
    "        if value(x[i][j]) > 0.1:\n",
    "            print('x_{}_{}: {}'.format(i,j,value(x[i][j])))"
   ]
  },
  {
   "cell_type": "code",
   "execution_count": 12,
   "id": "c04bfdaf",
   "metadata": {},
   "outputs": [
    {
     "name": "stdout",
     "output_type": "stream",
     "text": [
      "z_1: 6.99\n",
      "z_2: 17.98\n",
      "z_5: 23.47\n",
      "z_21: 117.86\n",
      "z_22: 143.85\n",
      "z_25: 32.46\n",
      "z_26: 102.38\n",
      "z_27: 112.37\n",
      "z_30: 41.45\n",
      "z_32: 75.42\n",
      "z_33: 62.43\n",
      "z_35: 48.44\n",
      "z_38: 90.4\n",
      "z_39: 83.41\n",
      "z_40: 94.39\n",
      "z_57: 143.85\n"
     ]
    }
   ],
   "source": [
    "for i in range(0,58):\n",
    "    if value(z[i]) > 0.1:\n",
    "        print('z_{}: {}'.format(i,round(value(z[i]),2)))"
   ]
  },
  {
   "cell_type": "code",
   "execution_count": 13,
   "id": "8d899adf",
   "metadata": {},
   "outputs": [
    {
     "name": "stdout",
     "output_type": "stream",
     "text": [
      "y_1: 1.5\n",
      "y_2: 3.5\n",
      "y_5: 10.0\n",
      "y_21: 51.0\n",
      "y_22: 52.5\n",
      "y_25: 16.0\n",
      "y_26: 44.5\n",
      "y_27: 45.5\n",
      "y_30: 19.5\n",
      "y_32: 31.0\n",
      "y_33: 29.5\n",
      "y_35: 25.5\n",
      "y_38: 37.5\n",
      "y_39: 37.0\n",
      "y_40: 39.5\n",
      "y_57: 60.0\n"
     ]
    }
   ],
   "source": [
    "for i in range(0,58):\n",
    "    if value(y[i]) > 0.1:\n",
    "        print('y_{}: {}'.format(i,value(y[i])))"
   ]
  },
  {
   "cell_type": "code",
   "execution_count": 14,
   "id": "413189f5",
   "metadata": {},
   "outputs": [
    {
     "name": "stdout",
     "output_type": "stream",
     "text": [
      "An Optimal Solution for the Supermarket Sweep is:\n"
     ]
    },
    {
     "data": {
      "text/html": [
       "<div>\n",
       "<style scoped>\n",
       "    .dataframe tbody tr th:only-of-type {\n",
       "        vertical-align: middle;\n",
       "    }\n",
       "\n",
       "    .dataframe tbody tr th {\n",
       "        vertical-align: top;\n",
       "    }\n",
       "\n",
       "    .dataframe thead th {\n",
       "        text-align: right;\n",
       "    }\n",
       "</style>\n",
       "<table border=\"1\" class=\"dataframe\">\n",
       "  <thead>\n",
       "    <tr style=\"text-align: right;\">\n",
       "      <th></th>\n",
       "      <th>Selected Path (xij)</th>\n",
       "      <th>Items Selected</th>\n",
       "      <th>Running Sum (zi)</th>\n",
       "    </tr>\n",
       "  </thead>\n",
       "  <tbody>\n",
       "    <tr>\n",
       "      <th>0</th>\n",
       "      <td>x_0_1</td>\n",
       "      <td>Coffee Beans</td>\n",
       "      <td>6.99</td>\n",
       "    </tr>\n",
       "    <tr>\n",
       "      <th>1</th>\n",
       "      <td>x_1_2</td>\n",
       "      <td>K-Cups</td>\n",
       "      <td>17.98</td>\n",
       "    </tr>\n",
       "    <tr>\n",
       "      <th>2</th>\n",
       "      <td>x_2_5</td>\n",
       "      <td>Granola</td>\n",
       "      <td>23.47</td>\n",
       "    </tr>\n",
       "    <tr>\n",
       "      <th>3</th>\n",
       "      <td>x_5_25</td>\n",
       "      <td>Tampons</td>\n",
       "      <td>32.46</td>\n",
       "    </tr>\n",
       "    <tr>\n",
       "      <th>4</th>\n",
       "      <td>x_25_30</td>\n",
       "      <td>Shampoo</td>\n",
       "      <td>41.45</td>\n",
       "    </tr>\n",
       "    <tr>\n",
       "      <th>5</th>\n",
       "      <td>x_30_35</td>\n",
       "      <td>Air Freshener</td>\n",
       "      <td>48.44</td>\n",
       "    </tr>\n",
       "    <tr>\n",
       "      <th>6</th>\n",
       "      <td>x_35_33</td>\n",
       "      <td>Broom</td>\n",
       "      <td>62.43</td>\n",
       "    </tr>\n",
       "    <tr>\n",
       "      <th>7</th>\n",
       "      <td>x_33_32</td>\n",
       "      <td>Detergent</td>\n",
       "      <td>75.42</td>\n",
       "    </tr>\n",
       "    <tr>\n",
       "      <th>8</th>\n",
       "      <td>x_32_39</td>\n",
       "      <td>Redbull</td>\n",
       "      <td>83.41</td>\n",
       "    </tr>\n",
       "    <tr>\n",
       "      <th>9</th>\n",
       "      <td>x_39_38</td>\n",
       "      <td>Gatorade</td>\n",
       "      <td>90.40</td>\n",
       "    </tr>\n",
       "    <tr>\n",
       "      <th>10</th>\n",
       "      <td>x_38_40</td>\n",
       "      <td>Ritz</td>\n",
       "      <td>94.39</td>\n",
       "    </tr>\n",
       "    <tr>\n",
       "      <th>11</th>\n",
       "      <td>x_40_26</td>\n",
       "      <td>Toilet Paper</td>\n",
       "      <td>102.38</td>\n",
       "    </tr>\n",
       "    <tr>\n",
       "      <th>12</th>\n",
       "      <td>x_26_27</td>\n",
       "      <td>Paper Towels</td>\n",
       "      <td>112.37</td>\n",
       "    </tr>\n",
       "    <tr>\n",
       "      <th>13</th>\n",
       "      <td>x_27_21</td>\n",
       "      <td>Ibuprofen</td>\n",
       "      <td>117.86</td>\n",
       "    </tr>\n",
       "    <tr>\n",
       "      <th>14</th>\n",
       "      <td>x_21_22</td>\n",
       "      <td>Diapers</td>\n",
       "      <td>143.85</td>\n",
       "    </tr>\n",
       "    <tr>\n",
       "      <th>15</th>\n",
       "      <td>x_22_57</td>\n",
       "      <td>End Node</td>\n",
       "      <td>143.85</td>\n",
       "    </tr>\n",
       "  </tbody>\n",
       "</table>\n",
       "</div>"
      ],
      "text/plain": [
       "   Selected Path (xij) Items Selected  Running Sum (zi)\n",
       "0                x_0_1   Coffee Beans              6.99\n",
       "1                x_1_2         K-Cups             17.98\n",
       "2                x_2_5        Granola             23.47\n",
       "3               x_5_25        Tampons             32.46\n",
       "4              x_25_30        Shampoo             41.45\n",
       "5              x_30_35  Air Freshener             48.44\n",
       "6              x_35_33          Broom             62.43\n",
       "7              x_33_32      Detergent             75.42\n",
       "8              x_32_39        Redbull             83.41\n",
       "9              x_39_38       Gatorade             90.40\n",
       "10             x_38_40           Ritz             94.39\n",
       "11             x_40_26   Toilet Paper            102.38\n",
       "12             x_26_27   Paper Towels            112.37\n",
       "13             x_27_21      Ibuprofen            117.86\n",
       "14             x_21_22        Diapers            143.85\n",
       "15             x_22_57       End Node            143.85"
      ]
     },
     "execution_count": 14,
     "metadata": {},
     "output_type": "execute_result"
    }
   ],
   "source": [
    "Final_Solution = {'Selected Path (xij)': ['x_0_1', 'x_1_2', 'x_2_5', 'x_5_25', 'x_25_30', 'x_30_35', 'x_35_33', 'x_33_32', 'x_32_39', 'x_39_38', 'x_38_40', 'x_40_26', 'x_26_27', 'x_27_21', 'x_21_22', 'x_22_57'],\n",
    "        'Items Selected': ['Coffee Beans', 'K-Cups', 'Granola', 'Tampons', 'Shampoo', 'Air Freshener', 'Broom', 'Detergent', 'Redbull', 'Gatorade', 'Ritz', 'Toilet Paper', 'Paper Towels', 'Ibuprofen', 'Diapers', 'End Node'],\n",
    "        'Running Sum (zi)': [6.99, 17.98, 23.47, 32.46, 41.45, 48.44, 62.43, 75.42, 83.41, 90.40, 94.39, 102.38, 112.37, 117.86, 143.85, 143.85]}\n",
    "\n",
    "print(\"An Optimal Solution for the Supermarket Sweep is:\")\n",
    "pd.DataFrame(Final_Solution)"
   ]
  },
  {
   "cell_type": "markdown",
   "id": "2ab9cecf",
   "metadata": {},
   "source": [
    "## Part d. Test the effect of different time allotments on the optimal value\n",
    "We will test six additional time allotments to evaluate how they change the objective value of the optimization problem: 60, 70, 80, 100, 110, and 120 seconds."
   ]
  },
  {
   "cell_type": "code",
   "execution_count": 16,
   "id": "0e8f53e4",
   "metadata": {},
   "outputs": [],
   "source": [
    "#60 seconds\n",
    "\n",
    "#define the problem\n",
    "prob2 = LpProblem(\"Supermarketsweep60\", LpMaximize)\n",
    "x = LpVariable.dicts(\"x\", (range(0,58), range(0,58)), 0, cat='Binary')\n",
    "#t is \n",
    "t = LpVariable.dicts(\"t\", (range(0,58), range(0,58)), 0)\n",
    "#y is \n",
    "y = LpVariable.dicts(\"y\", range(0,58), 0)\n",
    "#u is\n",
    "u = LpVariable.dicts(\"u\", (range(0,58), range(0,58)), 0)\n",
    "#z is the total value of items selected for the cart\n",
    "z = LpVariable.dicts(\"z\", range(0,58), 0)\n",
    "\n",
    "#objective function: maximize the value of all items selected for the cart\n",
    "prob2 += z[57]\n",
    "\n",
    "#ensuring each product is selected only once\n",
    "for i in range(0,57):\n",
    "    prob2 += lpSum([x[i][j] for j in range(1,58)]) <= 1\n",
    "\n",
    "#ensuring the shopper arrives at each item a maximum of one time\n",
    "for j in range(1,58):\n",
    "    prob2 += lpSum([x[i][j] for i in range(0,57)]) <= 1\n",
    "\n",
    "#ensuring if the shopper arrives at an item, they will leave it exactly once\n",
    "for j in range(1,57):\n",
    "    prob2 += lpSum([x[i][j] for i in range(0,57)]) == lpSum([x[j][i] for i in range(1,58)])\n",
    "\n",
    "#connect t and x variables\n",
    "for i in range(0,58):\n",
    "\tfor j in range(0,58):\n",
    "\t\tprob2 += t[i][j] <= 100000*x[i][j]\n",
    "\n",
    "#initial time is = to 0\n",
    "prob2 += y[0] == 0\n",
    "\n",
    "#the next two constraints calculate the running sum of total time required to move to all selected items \n",
    "for j in range(1,58):\n",
    "\tprob2 += y[j] == lpSum([t[i][j] for i in range(0,57)])\n",
    "\n",
    "for j in range(0,57):\n",
    "\tprob2 += lpSum([t[j][k] for k in range(1,58)]) == y[j] + lpSum([d[j][k]*x[j][k] for k in range(1,58)])\n",
    "\n",
    "#connecting x and u variables\n",
    "for i in range(0,58):\n",
    "\tfor j in range(0,58):\n",
    "\t\tprob2 += u[i][j] <= 100000*x[i][j]\n",
    "\n",
    "#initial value of items picked = 0\n",
    "prob2 += z[0] == 0\n",
    "\n",
    "#the next two constraints calculate running sum of value of items picked for the cart\n",
    "for j in range(1,58):\n",
    "\tprob2 += z[j] == lpSum([u[i][j] for i in range(0,57)])\n",
    "\n",
    "#same as above\n",
    "for j in range(0,57):\n",
    "\tprob2 += lpSum([u[j][k] for k in range(1,58)]) == z[j] + lpSum([v[k]*x[j][k] for k in range(1,58)])\n",
    "\n",
    "#total number of items picked should be less than 15 (need to include the starting point, so one more than 15)\n",
    "prob2 += lpSum([x[i][j] for j in range(1,58) for i in range(0,57)]) <= 16\n",
    "\n",
    "#shopper must leave from the starting point\n",
    "prob2 += lpSum([x[0][j] for j in range(1,58)]) == 1\n",
    "\n",
    "#shopper must end at the starting point\n",
    "prob2 += lpSum([x[i][57] for i in range(0,57)]) == 1\n",
    "\n",
    "#shopper should not go to starting point any time during the sweep\n",
    "prob2 += lpSum([x[i][0] for i in range(1,58)]) == 0\n",
    "\n",
    "#shopper should not go to the end point any time during the sweep\n",
    "prob2 += lpSum([x[57][j] for j in range(0,57)]) == 0\n",
    "\n",
    "#shopper should not go to the same item twice\n",
    "for i in range(0,58):\n",
    "\tprob2 += x[i][i] == 0\n",
    "\n",
    "#total time should be less than 60s\n",
    "prob2 += y[57] + (lpSum([x[i][j] for j in range(1,58) for i in range(0,57)]) - 1)*2 <= 60\n",
    "\n",
    "#non-negativity constraints\n",
    "for i in range(0,58):\n",
    "\tfor j in range(0,58):\n",
    "\t\tprob2 += t[i][j] >= 0\n",
    "\n",
    "for i in range(0,58):\n",
    "\tfor j in range(0,58):\n",
    "\t\tprob2 += u[i][j] >= 0"
   ]
  },
  {
   "cell_type": "code",
   "execution_count": 18,
   "id": "4fde3ff4",
   "metadata": {},
   "outputs": [
    {
     "data": {
      "text/plain": [
       "1"
      ]
     },
     "execution_count": 18,
     "metadata": {},
     "output_type": "execute_result"
    }
   ],
   "source": [
    "prob2.solve(GUROBI_CMD())"
   ]
  },
  {
   "cell_type": "code",
   "execution_count": 19,
   "id": "6b9c5eb3",
   "metadata": {},
   "outputs": [
    {
     "name": "stdout",
     "output_type": "stream",
     "text": [
      "Optimal Value: 101.7\n"
     ]
    }
   ],
   "source": [
    "print('Optimal Value: {}'.format(round(value(prob2.objective),2)))"
   ]
  },
  {
   "cell_type": "code",
   "execution_count": 20,
   "id": "236e7218",
   "metadata": {},
   "outputs": [],
   "source": [
    "#70 seconds\n",
    "\n",
    "#define the problem\n",
    "prob3 = LpProblem(\"Supermarketsweep70\", LpMaximize)\n",
    "x = LpVariable.dicts(\"x\", (range(0,58), range(0,58)), 0, cat='Binary')\n",
    "t = LpVariable.dicts(\"t\", (range(0,58), range(0,58)), 0)\n",
    "y = LpVariable.dicts(\"y\", range(0,58), 0)\n",
    "u = LpVariable.dicts(\"u\", (range(0,58), range(0,58)), 0)\n",
    "z = LpVariable.dicts(\"z\", range(0,58), 0)\n",
    "\n",
    "#objective function: maximize the value of all items selected for the cart\n",
    "prob3 += z[57]\n",
    "\n",
    "#ensuring each product is selected only once\n",
    "for i in range(0,57):\n",
    "    prob3 += lpSum([x[i][j] for j in range(1,58)]) <= 1\n",
    "\n",
    "#ensuring the shopper arrives at each item a maximum of one time\n",
    "for j in range(1,58):\n",
    "    prob3 += lpSum([x[i][j] for i in range(0,57)]) <= 1\n",
    "\n",
    "#ensuring if the shopper arrives at an item, they will leave it exactly once\n",
    "for j in range(1,57):\n",
    "    prob3 += lpSum([x[i][j] for i in range(0,57)]) == lpSum([x[j][i] for i in range(1,58)])\n",
    "\n",
    "#connect t and x variables\n",
    "for i in range(0,58):\n",
    "\tfor j in range(0,58):\n",
    "\t\tprob3 += t[i][j] <= 100000*x[i][j]\n",
    "\n",
    "#initial time is = to 0\n",
    "prob3 += y[0] == 0\n",
    "\n",
    "#the next two constraints calculate the running sum of total time required to move to all selected items \n",
    "for j in range(1,58):\n",
    "\tprob3 += y[j] == lpSum([t[i][j] for i in range(0,57)])\n",
    "\n",
    "for j in range(0,57):\n",
    "\tprob3 += lpSum([t[j][k] for k in range(1,58)]) == y[j] + lpSum([d[j][k]*x[j][k] for k in range(1,58)])\n",
    "\n",
    "#connecting x and u variables\n",
    "for i in range(0,58):\n",
    "\tfor j in range(0,58):\n",
    "\t\tprob3 += u[i][j] <= 100000*x[i][j]\n",
    "\n",
    "#initial value of items picked = 0\n",
    "prob3 += z[0] == 0\n",
    "\n",
    "#the next two constraints calculate running sum of value of items picked for the cart\n",
    "for j in range(1,58):\n",
    "\tprob3 += z[j] == lpSum([u[i][j] for i in range(0,57)])\n",
    "\n",
    "#same as above\n",
    "for j in range(0,57):\n",
    "\tprob3 += lpSum([u[j][k] for k in range(1,58)]) == z[j] + lpSum([v[k]*x[j][k] for k in range(1,58)])\n",
    "\n",
    "#total number of items picked should be less than 15 (need to include the starting point, so one more than 15)\n",
    "prob3 += lpSum([x[i][j] for j in range(1,58) for i in range(0,57)]) <= 16\n",
    "\n",
    "#shopper must leave from the starting point\n",
    "prob3 += lpSum([x[0][j] for j in range(1,58)]) == 1\n",
    "\n",
    "#shopper must end at the starting point\n",
    "prob3 += lpSum([x[i][57] for i in range(0,57)]) == 1\n",
    "\n",
    "#shopper should not go to starting point any time during the sweep\n",
    "prob3 += lpSum([x[i][0] for i in range(1,58)]) == 0\n",
    "\n",
    "#shopper should not go to the end point any time during the sweep\n",
    "prob3 += lpSum([x[57][j] for j in range(0,57)]) == 0\n",
    "\n",
    "#shopper should not go to the same item twice\n",
    "for i in range(0,58):\n",
    "\tprob3 += x[i][i] == 0\n",
    "\n",
    "#total time should be less than or equal to 70s\n",
    "prob3 += y[57] + (lpSum([x[i][j] for j in range(1,58) for i in range(0,57)]) - 1)*2 <= 70\n",
    "\n",
    "#non-negativity constraints\n",
    "for i in range(0,58):\n",
    "\tfor j in range(0,58):\n",
    "\t\tprob3 += t[i][j] >= 0\n",
    "\n",
    "for i in range(0,58):\n",
    "\tfor j in range(0,58):\n",
    "\t\tprob3 += u[i][j] >= 0"
   ]
  },
  {
   "cell_type": "code",
   "execution_count": 21,
   "id": "e0d2baa4",
   "metadata": {},
   "outputs": [
    {
     "data": {
      "text/plain": [
       "1"
      ]
     },
     "execution_count": 21,
     "metadata": {},
     "output_type": "execute_result"
    }
   ],
   "source": [
    "prob3.solve(GUROBI_CMD())"
   ]
  },
  {
   "cell_type": "code",
   "execution_count": 22,
   "id": "9bc97372",
   "metadata": {},
   "outputs": [
    {
     "name": "stdout",
     "output_type": "stream",
     "text": [
      "Optimal Value: 119.68\n"
     ]
    }
   ],
   "source": [
    "print('Optimal Value: {}'.format(round(value(prob3.objective),2)))"
   ]
  },
  {
   "cell_type": "code",
   "execution_count": 25,
   "id": "5f418389",
   "metadata": {},
   "outputs": [],
   "source": [
    "#80 seconds\n",
    "\n",
    "#define the problem\n",
    "prob4 = LpProblem(\"Supermarketsweep80\", LpMaximize)\n",
    "x = LpVariable.dicts(\"x\", (range(0,58), range(0,58)), 0, cat='Binary')\n",
    "t = LpVariable.dicts(\"t\", (range(0,58), range(0,58)), 0)\n",
    "y = LpVariable.dicts(\"y\", range(0,58), 0)\n",
    "u = LpVariable.dicts(\"u\", (range(0,58), range(0,58)), 0)\n",
    "z = LpVariable.dicts(\"z\", range(0,58), 0)\n",
    "\n",
    "#objective function: maximize the value of all items selected for the cart\n",
    "prob4 += z[57]\n",
    "\n",
    "#ensuring each product is selected only once\n",
    "for i in range(0,57):\n",
    "    prob4 += lpSum([x[i][j] for j in range(1,58)]) <= 1\n",
    "\n",
    "#ensuring the shopper arrives at each item a maximum of one time\n",
    "for j in range(1,58):\n",
    "    prob4 += lpSum([x[i][j] for i in range(0,57)]) <= 1\n",
    "\n",
    "#ensuring if the shopper arrives at an item, they will leave it exactly once\n",
    "for j in range(1,57):\n",
    "    prob4 += lpSum([x[i][j] for i in range(0,57)]) == lpSum([x[j][i] for i in range(1,58)])\n",
    "\n",
    "#connect t and x variables\n",
    "for i in range(0,58):\n",
    "\tfor j in range(0,58):\n",
    "\t\tprob4 += t[i][j] <= 100000*x[i][j]\n",
    "\n",
    "#initial time is = to 0\n",
    "prob4 += y[0] == 0\n",
    "\n",
    "#the next two constraints calculate the running sum of total time required to move to all selected items \n",
    "for j in range(1,58):\n",
    "\tprob4 += y[j] == lpSum([t[i][j] for i in range(0,57)])\n",
    "\n",
    "for j in range(0,57):\n",
    "\tprob4 += lpSum([t[j][k] for k in range(1,58)]) == y[j] + lpSum([d[j][k]*x[j][k] for k in range(1,58)])\n",
    "\n",
    "#connecting x and u variables\n",
    "for i in range(0,58):\n",
    "\tfor j in range(0,58):\n",
    "\t\tprob4 += u[i][j] <= 100000*x[i][j]\n",
    "\n",
    "#initial value of items picked = 0\n",
    "prob4 += z[0] == 0\n",
    "\n",
    "#the next two constraints calculate running sum of value of items picked for the cart\n",
    "for j in range(1,58):\n",
    "\tprob4 += z[j] == lpSum([u[i][j] for i in range(0,57)])\n",
    "\n",
    "#same as above\n",
    "for j in range(0,57):\n",
    "\tprob4 += lpSum([u[j][k] for k in range(1,58)]) == z[j] + lpSum([v[k]*x[j][k] for k in range(1,58)])\n",
    "\n",
    "#total number of items picked should be less than 15 (need to include the starting point, so one more than 15)\n",
    "prob4 += lpSum([x[i][j] for j in range(1,58) for i in range(0,57)]) <= 16\n",
    "\n",
    "#shopper must leave from the starting point\n",
    "prob4 += lpSum([x[0][j] for j in range(1,58)]) == 1\n",
    "\n",
    "#shopper must end at the starting point\n",
    "prob4 += lpSum([x[i][57] for i in range(0,57)]) == 1\n",
    "\n",
    "#shopper should not go to starting point any time during the sweep\n",
    "prob4 += lpSum([x[i][0] for i in range(1,58)]) == 0\n",
    "\n",
    "#shopper should not go to the end point any time during the sweep\n",
    "prob4 += lpSum([x[57][j] for j in range(0,57)]) == 0\n",
    "\n",
    "#shopper should not go to the same item twice\n",
    "for i in range(0,58):\n",
    "\tprob4 += x[i][i] == 0\n",
    "\n",
    "#total time should be less than 80s\n",
    "prob4 += y[57] + (lpSum([x[i][j] for j in range(1,58) for i in range(0,57)]) - 1)*2 <= 80\n",
    "\n",
    "#non-negativity constraints\n",
    "for i in range(0,58):\n",
    "\tfor j in range(0,58):\n",
    "\t\tprob4 += t[i][j] >= 0\n",
    "\n",
    "for i in range(0,58):\n",
    "\tfor j in range(0,58):\n",
    "\t\tprob4 += u[i][j] >= 0"
   ]
  },
  {
   "cell_type": "code",
   "execution_count": 26,
   "id": "3e5e9c1e",
   "metadata": {},
   "outputs": [
    {
     "data": {
      "text/plain": [
       "1"
      ]
     },
     "execution_count": 26,
     "metadata": {},
     "output_type": "execute_result"
    }
   ],
   "source": [
    "prob4.solve(GUROBI_CMD())"
   ]
  },
  {
   "cell_type": "code",
   "execution_count": 27,
   "id": "b87f035e",
   "metadata": {},
   "outputs": [
    {
     "name": "stdout",
     "output_type": "stream",
     "text": [
      "Optimal Value: 135.65\n"
     ]
    }
   ],
   "source": [
    "print('Optimal Value: {}'.format(round(value(prob4.objective),2)))"
   ]
  },
  {
   "cell_type": "code",
   "execution_count": 30,
   "id": "9fd2fdf0",
   "metadata": {},
   "outputs": [],
   "source": [
    "#100 seconds\n",
    "\n",
    "#define the problem\n",
    "prob5 = LpProblem(\"Supermarketsweep100\", LpMaximize)\n",
    "x = LpVariable.dicts(\"x\", (range(0,58), range(0,58)), 0, cat='Binary')\n",
    "t = LpVariable.dicts(\"t\", (range(0,58), range(0,58)), 0)\n",
    "y = LpVariable.dicts(\"y\", range(0,58), 0)\n",
    "u = LpVariable.dicts(\"u\", (range(0,58), range(0,58)), 0)\n",
    "z = LpVariable.dicts(\"z\", range(0,58), 0)\n",
    "\n",
    "#objective function: maximize the value of all items selected for the cart\n",
    "prob5 += z[57]\n",
    "\n",
    "#ensuring each product is selected only once\n",
    "for i in range(0,57):\n",
    "    prob5 += lpSum([x[i][j] for j in range(1,58)]) <= 1\n",
    "\n",
    "#ensuring the shopper arrives at each item a maximum of one time\n",
    "for j in range(1,58):\n",
    "    prob5 += lpSum([x[i][j] for i in range(0,57)]) <= 1\n",
    "\n",
    "#ensuring if the shopper arrives at an item, they will leave it exactly once\n",
    "for j in range(1,57):\n",
    "    prob5 += lpSum([x[i][j] for i in range(0,57)]) == lpSum([x[j][i] for i in range(1,58)])\n",
    "\n",
    "#connect t and x variables\n",
    "for i in range(0,58):\n",
    "\tfor j in range(0,58):\n",
    "\t\tprob5 += t[i][j] <= 100000*x[i][j]\n",
    "\n",
    "#initial time is = to 0\n",
    "prob5 += y[0] == 0\n",
    "\n",
    "#the next two constraints calculate the running sum of total time required to move to all selected items \n",
    "for j in range(1,58):\n",
    "\tprob5 += y[j] == lpSum([t[i][j] for i in range(0,57)])\n",
    "\n",
    "for j in range(0,57):\n",
    "\tprob5 += lpSum([t[j][k] for k in range(1,58)]) == y[j] + lpSum([d[j][k]*x[j][k] for k in range(1,58)])\n",
    "\n",
    "#connecting x and u variables\n",
    "for i in range(0,58):\n",
    "\tfor j in range(0,58):\n",
    "\t\tprob5 += u[i][j] <= 100000*x[i][j]\n",
    "\n",
    "#initial value of items picked = 0\n",
    "prob5 += z[0] == 0\n",
    "\n",
    "#the next two constraints calculate running sum of value of items picked for the cart\n",
    "for j in range(1,58):\n",
    "\tprob5 += z[j] == lpSum([u[i][j] for i in range(0,57)])\n",
    "\n",
    "#same as above\n",
    "for j in range(0,57):\n",
    "\tprob5 += lpSum([u[j][k] for k in range(1,58)]) == z[j] + lpSum([v[k]*x[j][k] for k in range(1,58)])\n",
    "\n",
    "#total number of items picked should be less than 15 (need to include the starting point, so one more than 15)\n",
    "prob5 += lpSum([x[i][j] for j in range(1,58) for i in range(0,57)]) <= 16\n",
    "\n",
    "#shopper must leave from the starting point\n",
    "prob5 += lpSum([x[0][j] for j in range(1,58)]) == 1\n",
    "\n",
    "#shopper must end at the starting point\n",
    "prob5 += lpSum([x[i][57] for i in range(0,57)]) == 1\n",
    "\n",
    "#shopper should not go to starting point any time during the sweep\n",
    "prob5 += lpSum([x[i][0] for i in range(1,58)]) == 0\n",
    "\n",
    "#shopper should not go to the end point any time during the sweep\n",
    "prob5 += lpSum([x[57][j] for j in range(0,57)]) == 0\n",
    "\n",
    "#shopper should not go to the same item twice\n",
    "for i in range(0,58):\n",
    "\tprob5 += x[i][i] == 0\n",
    "\n",
    "#total time should be less than 100s\n",
    "prob5 += y[57] + (lpSum([x[i][j] for j in range(1,58) for i in range(0,57)]) - 1)*2 <= 100\n",
    "\n",
    "#non-negativity constraints\n",
    "for i in range(0,58):\n",
    "\tfor j in range(0,58):\n",
    "\t\tprob5 += t[i][j] >= 0\n",
    "\n",
    "for i in range(0,58):\n",
    "\tfor j in range(0,58):\n",
    "\t\tprob5 += u[i][j] >= 0"
   ]
  },
  {
   "cell_type": "code",
   "execution_count": 31,
   "id": "d7324f9c",
   "metadata": {},
   "outputs": [
    {
     "data": {
      "text/plain": [
       "1"
      ]
     },
     "execution_count": 31,
     "metadata": {},
     "output_type": "execute_result"
    }
   ],
   "source": [
    "prob5.solve(GUROBI_CMD())"
   ]
  },
  {
   "cell_type": "code",
   "execution_count": 32,
   "id": "677cd507",
   "metadata": {},
   "outputs": [
    {
     "name": "stdout",
     "output_type": "stream",
     "text": [
      "Optimal Value: 151.65\n"
     ]
    }
   ],
   "source": [
    "print('Optimal Value: {}'.format(round(value(prob5.objective),2)))"
   ]
  },
  {
   "cell_type": "code",
   "execution_count": 34,
   "id": "7958f13f",
   "metadata": {},
   "outputs": [],
   "source": [
    "#110 seconds\n",
    "\n",
    "#define the problem\n",
    "prob6 = LpProblem(\"Supermarketsweep110\", LpMaximize)\n",
    "x = LpVariable.dicts(\"x\", (range(0,58), range(0,58)), 0, cat='Binary')\n",
    "t = LpVariable.dicts(\"t\", (range(0,58), range(0,58)), 0)\n",
    "y = LpVariable.dicts(\"y\", range(0,58), 0)\n",
    "u = LpVariable.dicts(\"u\", (range(0,58), range(0,58)), 0)\n",
    "z = LpVariable.dicts(\"z\", range(0,58), 0)\n",
    "\n",
    "#objective function: maximize the value of all items selected for the cart\n",
    "prob6 += z[57]\n",
    "\n",
    "#ensuring each product is selected only once\n",
    "for i in range(0,57):\n",
    "    prob6 += lpSum([x[i][j] for j in range(1,58)]) <= 1\n",
    "\n",
    "#ensuring the shopper arrives at each item a maximum of one time\n",
    "for j in range(1,58):\n",
    "    prob6 += lpSum([x[i][j] for i in range(0,57)]) <= 1\n",
    "\n",
    "#ensuring if the shopper arrives at an item, they will leave it exactly once\n",
    "for j in range(1,57):\n",
    "    prob6 += lpSum([x[i][j] for i in range(0,57)]) == lpSum([x[j][i] for i in range(1,58)])\n",
    "\n",
    "#connect t and x variables\n",
    "for i in range(0,58):\n",
    "\tfor j in range(0,58):\n",
    "\t\tprob6 += t[i][j] <= 100000*x[i][j]\n",
    "\n",
    "#initial time is = to 0\n",
    "prob6 += y[0] == 0\n",
    "\n",
    "#the next two constraints calculate the running sum of total time required to move to all selected items \n",
    "for j in range(1,58):\n",
    "\tprob6 += y[j] == lpSum([t[i][j] for i in range(0,57)])\n",
    "\n",
    "for j in range(0,57):\n",
    "\tprob6 += lpSum([t[j][k] for k in range(1,58)]) == y[j] + lpSum([d[j][k]*x[j][k] for k in range(1,58)])\n",
    "\n",
    "#connecting x and u variables\n",
    "for i in range(0,58):\n",
    "\tfor j in range(0,58):\n",
    "\t\tprob6 += u[i][j] <= 100000*x[i][j]\n",
    "\n",
    "#initial value of items picked = 0\n",
    "prob6 += z[0] == 0\n",
    "\n",
    "#the next two constraints calculate running sum of value of items picked for the cart\n",
    "for j in range(1,58):\n",
    "\tprob6 += z[j] == lpSum([u[i][j] for i in range(0,57)])\n",
    "\n",
    "#same as above\n",
    "for j in range(0,57):\n",
    "\tprob6 += lpSum([u[j][k] for k in range(1,58)]) == z[j] + lpSum([v[k]*x[j][k] for k in range(1,58)])\n",
    "\n",
    "#total number of items picked should be less than 15 (need to include the starting point, so one more than 15)\n",
    "prob6 += lpSum([x[i][j] for j in range(1,58) for i in range(0,57)]) <= 16\n",
    "\n",
    "#shopper must leave from the starting point\n",
    "prob6 += lpSum([x[0][j] for j in range(1,58)]) == 1\n",
    "\n",
    "#shopper must end at the starting point\n",
    "prob6 += lpSum([x[i][57] for i in range(0,57)]) == 1\n",
    "\n",
    "#shopper should not go to starting point any time during the sweep\n",
    "prob6 += lpSum([x[i][0] for i in range(1,58)]) == 0\n",
    "\n",
    "#shopper should not go to the end point any time during the sweep\n",
    "prob6 += lpSum([x[57][j] for j in range(0,57)]) == 0\n",
    "\n",
    "#shopper should not go to the same item twice\n",
    "for i in range(0,58):\n",
    "\tprob6 += x[i][i] == 0\n",
    "\n",
    "#total time should be less than 110s\n",
    "prob6 += y[57] + (lpSum([x[i][j] for j in range(1,58) for i in range(0,57)]) - 1)*2 <= 110\n",
    "\n",
    "#non-negativity constraints\n",
    "for i in range(0,58):\n",
    "\tfor j in range(0,58):\n",
    "\t\tprob6 += t[i][j] >= 0\n",
    "\n",
    "for i in range(0,58):\n",
    "\tfor j in range(0,58):\n",
    "\t\tprob6 += u[i][j] >= 0"
   ]
  },
  {
   "cell_type": "code",
   "execution_count": 35,
   "id": "7d0f149c",
   "metadata": {},
   "outputs": [
    {
     "data": {
      "text/plain": [
       "1"
      ]
     },
     "execution_count": 35,
     "metadata": {},
     "output_type": "execute_result"
    }
   ],
   "source": [
    "prob6.solve(GUROBI_CMD())"
   ]
  },
  {
   "cell_type": "code",
   "execution_count": 36,
   "id": "fa5338fd",
   "metadata": {},
   "outputs": [
    {
     "name": "stdout",
     "output_type": "stream",
     "text": [
      "Optimal Value: 154.85\n"
     ]
    }
   ],
   "source": [
    "print('Optimal Value: {}'.format(round(value(prob6.objective),2)))"
   ]
  },
  {
   "cell_type": "code",
   "execution_count": 8,
   "id": "34165e10",
   "metadata": {},
   "outputs": [],
   "source": [
    "#120 seconds\n",
    "\n",
    "#define the problem\n",
    "prob7 = LpProblem(\"Supermarketsweep120\", LpMaximize)\n",
    "\n",
    "x = LpVariable.dicts(\"x\", (range(0,58), range(0,58)), 0, cat='Binary')\n",
    "t = LpVariable.dicts(\"t\", (range(0,58), range(0,58)), 0)\n",
    "y = LpVariable.dicts(\"y\", range(0,58), 0)\n",
    "u = LpVariable.dicts(\"u\", (range(0,58), range(0,58)), 0)\n",
    "z = LpVariable.dicts(\"z\", range(0,58), 0)\n",
    "\n",
    "#objective function: maximize the value of all items selected for the cart\n",
    "prob7 += z[57]\n",
    "\n",
    "#ensuring each product is selected only once\n",
    "for i in range(0,57):\n",
    "    prob7 += lpSum([x[i][j] for j in range(1,58)]) <= 1\n",
    "\n",
    "#ensuring the shopper arrives at each item a maximum of one time\n",
    "for j in range(1,58):\n",
    "    prob7 += lpSum([x[i][j] for i in range(0,57)]) <= 1\n",
    "\n",
    "#ensuring if the shopper arrives at an item, they will leave it exactly once\n",
    "for j in range(1,57):\n",
    "    prob7 += lpSum([x[i][j] for i in range(0,57)]) == lpSum([x[j][i] for i in range(1,58)])\n",
    "\n",
    "#connect t and x variables\n",
    "for i in range(0,58):\n",
    "\tfor j in range(0,58):\n",
    "\t\tprob7 += t[i][j] <= 100000*x[i][j]\n",
    "\n",
    "#initial time is = to 0\n",
    "prob7 += y[0] == 0\n",
    "\n",
    "#the next two constraints calculate the running sum of total time required to move to all selected items \n",
    "for j in range(1,58):\n",
    "\tprob7 += y[j] == lpSum([t[i][j] for i in range(0,57)])\n",
    "\n",
    "for j in range(0,57):\n",
    "\tprob7 += lpSum([t[j][k] for k in range(1,58)]) == y[j] + lpSum([d[j][k]*x[j][k] for k in range(1,58)])\n",
    "\n",
    "#connecting x and u variables\n",
    "for i in range(0,58):\n",
    "\tfor j in range(0,58):\n",
    "\t\tprob7 += u[i][j] <= 100000*x[i][j]\n",
    "\n",
    "#initial value of items picked = 0\n",
    "prob7 += z[0] == 0\n",
    "\n",
    "#the next two constraints calculate running sum of value of items picked for the cart\n",
    "for j in range(1,58):\n",
    "\tprob7 += z[j] == lpSum([u[i][j] for i in range(0,57)])\n",
    "\n",
    "#same as above\n",
    "for j in range(0,57):\n",
    "\tprob7 += lpSum([u[j][k] for k in range(1,58)]) == z[j] + lpSum([v[k]*x[j][k] for k in range(1,58)])\n",
    "\n",
    "#total number of items picked should be less than 15 (need to include the starting point, so one more than 15)\n",
    "prob7 += lpSum([x[i][j] for j in range(1,58) for i in range(0,57)]) <= 16\n",
    "\n",
    "#shopper must leave from the starting point\n",
    "prob7 += lpSum([x[0][j] for j in range(1,58)]) == 1\n",
    "\n",
    "#shopper must end at the starting point\n",
    "prob7 += lpSum([x[i][57] for i in range(0,57)]) == 1\n",
    "\n",
    "#shopper should not go to starting point any time during the sweep\n",
    "prob7 += lpSum([x[i][0] for i in range(1,58)]) == 0\n",
    "\n",
    "#shopper should not go to the end point any time during the sweep\n",
    "prob7 += lpSum([x[57][j] for j in range(0,57)]) == 0\n",
    "\n",
    "#shopper should not go to the same item twice\n",
    "for i in range(0,58):\n",
    "\tprob7 += x[i][i] == 0\n",
    "\n",
    "#total time should be less than 120s\n",
    "prob7 += y[57] + (lpSum([x[i][j] for j in range(1,58) for i in range(0,57)]) - 1)*2 <= 120\n",
    "\n",
    "#non-negativity constraints\n",
    "for i in range(0,58):\n",
    "\tfor j in range(0,58):\n",
    "\t\tprob7 += t[i][j] >= 0\n",
    "\n",
    "for i in range(0,58):\n",
    "\tfor j in range(0,58):\n",
    "\t\tprob7 += u[i][j] >= 0"
   ]
  },
  {
   "cell_type": "code",
   "execution_count": 9,
   "id": "73508712",
   "metadata": {},
   "outputs": [
    {
     "data": {
      "text/plain": [
       "1"
      ]
     },
     "execution_count": 9,
     "metadata": {},
     "output_type": "execute_result"
    }
   ],
   "source": [
    "prob7.solve(GUROBI_CMD())"
   ]
  },
  {
   "cell_type": "code",
   "execution_count": 10,
   "id": "ab9790b2",
   "metadata": {},
   "outputs": [
    {
     "name": "stdout",
     "output_type": "stream",
     "text": [
      "Optimal Value: 154.85\n"
     ]
    }
   ],
   "source": [
    "print('Optimal Value: {}'.format(round(value(prob7.objective),2)))"
   ]
  },
  {
   "cell_type": "code",
   "execution_count": 11,
   "id": "c427e5ac",
   "metadata": {},
   "outputs": [],
   "source": [
    "#130 seconds\n",
    "\n",
    "#define the problem\n",
    "prob8 = LpProblem(\"Supermarketsweep130\", LpMaximize)\n",
    "\n",
    "x = LpVariable.dicts(\"x\", (range(0,58), range(0,58)), 0, cat='Binary')\n",
    "t = LpVariable.dicts(\"t\", (range(0,58), range(0,58)), 0)\n",
    "y = LpVariable.dicts(\"y\", range(0,58), 0)\n",
    "u = LpVariable.dicts(\"u\", (range(0,58), range(0,58)), 0)\n",
    "z = LpVariable.dicts(\"z\", range(0,58), 0)\n",
    "\n",
    "#objective function: maximize the value of all items selected for the cart\n",
    "prob8 += z[57]\n",
    "\n",
    "#ensuring each product is selected only once\n",
    "for i in range(0,57):\n",
    "    prob8 += lpSum([x[i][j] for j in range(1,58)]) <= 1\n",
    "\n",
    "#ensuring the shopper arrives at each item a maximum of one time\n",
    "for j in range(1,58):\n",
    "    prob8 += lpSum([x[i][j] for i in range(0,57)]) <= 1\n",
    "\n",
    "#ensuring if the shopper arrives at an item, they will leave it exactly once\n",
    "for j in range(1,57):\n",
    "    prob8 += lpSum([x[i][j] for i in range(0,57)]) == lpSum([x[j][i] for i in range(1,58)])\n",
    "\n",
    "#connect t and x variables\n",
    "for i in range(0,58):\n",
    "\tfor j in range(0,58):\n",
    "\t\tprob8 += t[i][j] <= 100000*x[i][j]\n",
    "\n",
    "#initial time is = to 0\n",
    "prob8 += y[0] == 0\n",
    "\n",
    "#the next two constraints calculate the running sum of total time required to move to all selected items \n",
    "for j in range(1,58):\n",
    "\tprob8 += y[j] == lpSum([t[i][j] for i in range(0,57)])\n",
    "\n",
    "for j in range(0,57):\n",
    "\tprob8 += lpSum([t[j][k] for k in range(1,58)]) == y[j] + lpSum([d[j][k]*x[j][k] for k in range(1,58)])\n",
    "\n",
    "#connecting x and u variables\n",
    "for i in range(0,58):\n",
    "\tfor j in range(0,58):\n",
    "\t\tprob8 += u[i][j] <= 100000*x[i][j]\n",
    "\n",
    "#initial value of items picked = 0\n",
    "prob8 += z[0] == 0\n",
    "\n",
    "#the next two constraints calculate running sum of value of items picked for the cart\n",
    "for j in range(1,58):\n",
    "\tprob8 += z[j] == lpSum([u[i][j] for i in range(0,57)])\n",
    "\n",
    "#same as above\n",
    "for j in range(0,57):\n",
    "\tprob8 += lpSum([u[j][k] for k in range(1,58)]) == z[j] + lpSum([v[k]*x[j][k] for k in range(1,58)])\n",
    "\n",
    "#total number of items picked should be less than 15 (need to include the starting point, so one more than 15)\n",
    "prob8 += lpSum([x[i][j] for j in range(1,58) for i in range(0,57)]) <= 16\n",
    "\n",
    "#shopper must leave from the starting point\n",
    "prob8 += lpSum([x[0][j] for j in range(1,58)]) == 1\n",
    "\n",
    "#shopper must end at the starting point\n",
    "prob8 += lpSum([x[i][57] for i in range(0,57)]) == 1\n",
    "\n",
    "#shopper should not go to starting point any time during the sweep\n",
    "prob8 += lpSum([x[i][0] for i in range(1,58)]) == 0\n",
    "\n",
    "#shopper should not go to the end point any time during the sweep\n",
    "prob8 += lpSum([x[57][j] for j in range(0,57)]) == 0\n",
    "\n",
    "#shopper should not go to the same item twice\n",
    "for i in range(0,58):\n",
    "\tprob8 += x[i][i] == 0\n",
    "\n",
    "#total time should be less than 130s\n",
    "prob8 += y[57] + (lpSum([x[i][j] for j in range(1,58) for i in range(0,57)]) - 1)*2 <= 130\n",
    "\n",
    "#non-negativity constraints\n",
    "for i in range(0,58):\n",
    "\tfor j in range(0,58):\n",
    "\t\tprob8 += t[i][j] >= 0\n",
    "\n",
    "for i in range(0,58):\n",
    "\tfor j in range(0,58):\n",
    "\t\tprob8 += u[i][j] >= 0"
   ]
  },
  {
   "cell_type": "code",
   "execution_count": 12,
   "id": "df95acbc",
   "metadata": {},
   "outputs": [
    {
     "data": {
      "text/plain": [
       "1"
      ]
     },
     "execution_count": 12,
     "metadata": {},
     "output_type": "execute_result"
    }
   ],
   "source": [
    "prob8.solve(GUROBI_CMD())"
   ]
  },
  {
   "cell_type": "code",
   "execution_count": 13,
   "id": "a46e0b50",
   "metadata": {},
   "outputs": [
    {
     "name": "stdout",
     "output_type": "stream",
     "text": [
      "Optimal Value: 154.85\n"
     ]
    }
   ],
   "source": [
    "print('Optimal Value: {}'.format(round(value(prob8.objective),2)))"
   ]
  },
  {
   "cell_type": "code",
   "execution_count": 37,
   "id": "e699b12c",
   "metadata": {},
   "outputs": [],
   "source": [
    "#store the values \n",
    "x = [60, 70, 80, 90, 100, 110, 120, 130]\n",
    "y = [101.7, 119.68, 135.65, 143.85, 151.65, 154.85, 154.85, 154.85]"
   ]
  },
  {
   "cell_type": "code",
   "execution_count": 15,
   "id": "59989911",
   "metadata": {},
   "outputs": [],
   "source": [
    "import matplotlib.pyplot as plt"
   ]
  },
  {
   "cell_type": "code",
   "execution_count": 39,
   "id": "41477571",
   "metadata": {},
   "outputs": [
    {
     "data": {
      "image/png": "[encoded data removed]",
      "text/plain": [
       "<Figure size 432x288 with 1 Axes>"
      ]
     },
     "metadata": {
      "needs_background": "light"
     },
     "output_type": "display_data"
    }
   ],
   "source": [
    "plt.plot(x, y, '-ok')\n",
    "plt.xlabel(\"Seconds\")\n",
    "plt.ylabel(\"Total Cart Value\")\n",
    "plt.title(\"Effect of Varying Seconds Available to Shop on Objective Value\");"
   ]
  },
  {
   "cell_type": "markdown",
   "id": "b83c53f9",
   "metadata": {},
   "source": [
    "## Part e. Test the effect of different cart capacities on the optimal value\n",
    "We will test ten additional cart capacities: 10, 11, 12, 13, 14, 16, 17, 18, 19, and 20 items."
   ]
  },
  {
   "cell_type": "code",
   "execution_count": 37,
   "id": "93d9083a",
   "metadata": {},
   "outputs": [],
   "source": [
    "#10 items\n",
    "\n",
    "#define the problem\n",
    "proba = LpProblem(\"Supermarketsweep10\", LpMaximize)\n",
    "x = LpVariable.dicts(\"x\", (range(0,58), range(0,58)), 0, cat='Binary')\n",
    "t = LpVariable.dicts(\"t\", (range(0,58), range(0,58)), 0)\n",
    "y = LpVariable.dicts(\"y\", range(0,58), 0)\n",
    "u = LpVariable.dicts(\"u\", (range(0,58), range(0,58)), 0)\n",
    "z = LpVariable.dicts(\"z\", range(0,58), 0)\n",
    "\n",
    "#objective function: maximize the value of all items selected for the cart\n",
    "proba += z[57]\n",
    "\n",
    "#total number of items picked should be less than or equal to 10\n",
    "proba += lpSum([x[i][j] for j in range(1,58) for i in range(0,57)]) <= 11\n",
    "\n",
    "#ensuring each product is selected only once\n",
    "for i in range(0,57):\n",
    "    proba += lpSum([x[i][j] for j in range(1,58)]) <= 1\n",
    "\n",
    "#ensuring the shopper arrives at each item a maximum of one time\n",
    "for j in range(1,58):\n",
    "    proba += lpSum([x[i][j] for i in range(0,57)]) <= 1\n",
    "\n",
    "#ensuring if the shopper arrives at an item, they will leave it exactly once\n",
    "for j in range(1,57):\n",
    "    proba += lpSum([x[i][j] for i in range(0,57)]) == lpSum([x[j][i] for i in range(1,58)])\n",
    "\n",
    "#connect t and x variables\n",
    "for i in range(0,58):\n",
    "\tfor j in range(0,58):\n",
    "\t\tproba += t[i][j] <= 100000*x[i][j]\n",
    "\n",
    "#initial time is = to 0\n",
    "proba += y[0] == 0\n",
    "\n",
    "#the next two constraints calculate the running sum of total time required to move to all selected items \n",
    "for j in range(1,58):\n",
    "\tproba += y[j] == lpSum([t[i][j] for i in range(0,57)])\n",
    "\n",
    "for j in range(0,57):\n",
    "\tproba += lpSum([t[j][k] for k in range(1,58)]) == y[j] + lpSum([d[j][k]*x[j][k] for k in range(1,58)])\n",
    "\n",
    "#connecting x and u variables\n",
    "for i in range(0,58):\n",
    "\tfor j in range(0,58):\n",
    "\t\tproba += u[i][j] <= 100000*x[i][j]\n",
    "\n",
    "#initial value of items picked = 0\n",
    "proba += z[0] == 0\n",
    "\n",
    "#the next two constraints calculate running sum of value of items picked for the cart\n",
    "for j in range(1,58):\n",
    "\tproba += z[j] == lpSum([u[i][j] for i in range(0,57)])\n",
    "\n",
    "#same as above\n",
    "for j in range(0,57):\n",
    "\tproba += lpSum([u[j][k] for k in range(1,58)]) == z[j] + lpSum([v[k]*x[j][k] for k in range(1,58)])\n",
    "\n",
    "#shopper must leave from the starting point\n",
    "proba += lpSum([x[0][j] for j in range(1,58)]) == 1\n",
    "\n",
    "#shopper must end at the starting point\n",
    "proba += lpSum([x[i][57] for i in range(0,57)]) == 1\n",
    "\n",
    "#shopper should not go to starting point any time during the sweep\n",
    "proba += lpSum([x[i][0] for i in range(1,58)]) == 0\n",
    "\n",
    "#shopper should not go to the end point any time during the sweep\n",
    "proba += lpSum([x[57][j] for j in range(0,57)]) == 0\n",
    "\n",
    "#shopper should not go to the same item twice\n",
    "for i in range(0,58):\n",
    "\tproba += x[i][i] == 0\n",
    "\n",
    "#total time should be less than 90s\n",
    "proba += y[57] + (lpSum([x[i][j] for j in range(1,58) for i in range(0,57)]) - 1)*2 <= 90\n",
    "\n",
    "#non-negativity constraints\n",
    "for i in range(0,58):\n",
    "\tfor j in range(0,58):\n",
    "\t\tproba += t[i][j] >= 0\n",
    "\n",
    "for i in range(0,58):\n",
    "\tfor j in range(0,58):\n",
    "\t\tproba += u[i][j] >= 0"
   ]
  },
  {
   "cell_type": "code",
   "execution_count": 38,
   "id": "f63c5910",
   "metadata": {},
   "outputs": [
    {
     "data": {
      "text/plain": [
       "1"
      ]
     },
     "execution_count": 38,
     "metadata": {},
     "output_type": "execute_result"
    }
   ],
   "source": [
    "proba.solve(GUROBI_CMD())"
   ]
  },
  {
   "cell_type": "code",
   "execution_count": 39,
   "id": "ca8a642d",
   "metadata": {},
   "outputs": [
    {
     "name": "stdout",
     "output_type": "stream",
     "text": [
      "Optimal Value: 118.9\n"
     ]
    }
   ],
   "source": [
    "print('Optimal Value: {}'.format(round(value(proba.objective),2)))"
   ]
  },
  {
   "cell_type": "code",
   "execution_count": 40,
   "id": "8f9a8d73",
   "metadata": {},
   "outputs": [],
   "source": [
    "#11 items\n",
    "\n",
    "#define the problem\n",
    "probb = LpProblem(\"Supermarketsweep11\", LpMaximize)\n",
    "x = LpVariable.dicts(\"x\", (range(0,58), range(0,58)), 0, cat='Binary')\n",
    "t = LpVariable.dicts(\"t\", (range(0,58), range(0,58)), 0)\n",
    "y = LpVariable.dicts(\"y\", range(0,58), 0)\n",
    "u = LpVariable.dicts(\"u\", (range(0,58), range(0,58)), 0)\n",
    "z = LpVariable.dicts(\"z\", range(0,58), 0)\n",
    "\n",
    "#objective function: maximize the value of all items selected for the cart\n",
    "probb += z[57]\n",
    "\n",
    "#total number of items picked should be less than or equal to 11\n",
    "probb += lpSum([x[i][j] for j in range(1,58) for i in range(0,57)]) <= 12\n",
    "\n",
    "#ensuring each product is selected only once\n",
    "for i in range(0,57):\n",
    "    probb += lpSum([x[i][j] for j in range(1,58)]) <= 1\n",
    "\n",
    "#ensuring the shopper arrives at each item a maximum of one time\n",
    "for j in range(1,58):\n",
    "    probb += lpSum([x[i][j] for i in range(0,57)]) <= 1\n",
    "\n",
    "#ensuring if the shopper arrives at an item, they will leave it exactly once\n",
    "for j in range(1,57):\n",
    "    probb += lpSum([x[i][j] for i in range(0,57)]) == lpSum([x[j][i] for i in range(1,58)])\n",
    "\n",
    "#connect t and x variables\n",
    "for i in range(0,58):\n",
    "\tfor j in range(0,58):\n",
    "\t\tprobb += t[i][j] <= 100000*x[i][j]\n",
    "\n",
    "#initial time is = to 0\n",
    "probb += y[0] == 0\n",
    "\n",
    "#the next two constraints calculate the running sum of total time required to move to all selected items \n",
    "for j in range(1,58):\n",
    "\tprobb += y[j] == lpSum([t[i][j] for i in range(0,57)])\n",
    "\n",
    "for j in range(0,57):\n",
    "\tprobb += lpSum([t[j][k] for k in range(1,58)]) == y[j] + lpSum([d[j][k]*x[j][k] for k in range(1,58)])\n",
    "\n",
    "#connecting x and u variables\n",
    "for i in range(0,58):\n",
    "\tfor j in range(0,58):\n",
    "\t\tprobb += u[i][j] <= 100000*x[i][j]\n",
    "\n",
    "#initial value of items picked = 0\n",
    "probb += z[0] == 0\n",
    "\n",
    "#the next two constraints calculate running sum of value of items picked for the cart\n",
    "for j in range(1,58):\n",
    "\tprobb += z[j] == lpSum([u[i][j] for i in range(0,57)])\n",
    "\n",
    "#same as above\n",
    "for j in range(0,57):\n",
    "\tprobb += lpSum([u[j][k] for k in range(1,58)]) == z[j] + lpSum([v[k]*x[j][k] for k in range(1,58)])\n",
    "\n",
    "#shopper must leave from the starting point\n",
    "probb += lpSum([x[0][j] for j in range(1,58)]) == 1\n",
    "\n",
    "#shopper must end at the starting point\n",
    "probb += lpSum([x[i][57] for i in range(0,57)]) == 1\n",
    "\n",
    "#shopper should not go to starting point any time during the sweep\n",
    "probb += lpSum([x[i][0] for i in range(1,58)]) == 0\n",
    "\n",
    "#shopper should not go to the end point any time during the sweep\n",
    "probb += lpSum([x[57][j] for j in range(0,57)]) == 0\n",
    "\n",
    "#shopper should not go to the same item twice\n",
    "for i in range(0,58):\n",
    "\tprobb += x[i][i] == 0\n",
    "\n",
    "#total time should be less than 90s\n",
    "probb += y[57] + (lpSum([x[i][j] for j in range(1,58) for i in range(0,57)]) - 1)*2 <= 90\n",
    "\n",
    "#non-negativity constraints\n",
    "for i in range(0,58):\n",
    "\tfor j in range(0,58):\n",
    "\t\tprobb += t[i][j] >= 0\n",
    "\n",
    "for i in range(0,58):\n",
    "\tfor j in range(0,58):\n",
    "\t\tprobb += u[i][j] >= 0"
   ]
  },
  {
   "cell_type": "code",
   "execution_count": 41,
   "id": "26f1074f",
   "metadata": {},
   "outputs": [
    {
     "data": {
      "text/plain": [
       "1"
      ]
     },
     "execution_count": 41,
     "metadata": {},
     "output_type": "execute_result"
    }
   ],
   "source": [
    "probb.solve(GUROBI_CMD())"
   ]
  },
  {
   "cell_type": "code",
   "execution_count": 42,
   "id": "fc79633f",
   "metadata": {},
   "outputs": [
    {
     "name": "stdout",
     "output_type": "stream",
     "text": [
      "Optimal Value: 125.89\n"
     ]
    }
   ],
   "source": [
    "print('Optimal Value: {}'.format(round(value(probb.objective),2)))"
   ]
  },
  {
   "cell_type": "code",
   "execution_count": 44,
   "id": "6a9dda88",
   "metadata": {},
   "outputs": [],
   "source": [
    "#12 items\n",
    "\n",
    "#define the problem\n",
    "probc = LpProblem(\"Supermarketsweep12\", LpMaximize)\n",
    "x = LpVariable.dicts(\"x\", (range(0,58), range(0,58)), 0, cat='Binary')\n",
    "t = LpVariable.dicts(\"t\", (range(0,58), range(0,58)), 0)\n",
    "y = LpVariable.dicts(\"y\", range(0,58), 0)\n",
    "u = LpVariable.dicts(\"u\", (range(0,58), range(0,58)), 0)\n",
    "z = LpVariable.dicts(\"z\", range(0,58), 0)\n",
    "\n",
    "#objective function: maximize the value of all items selected for the cart\n",
    "probc += z[57]\n",
    "\n",
    "#total number of items picked should be less than or equal to 12\n",
    "probc += lpSum([x[i][j] for j in range(1,58) for i in range(0,57)]) <= 13\n",
    "\n",
    "#ensuring each product is selected only once\n",
    "for i in range(0,57):\n",
    "    probc += lpSum([x[i][j] for j in range(1,58)]) <= 1\n",
    "\n",
    "#ensuring the shopper arrives at each item a maximum of one time\n",
    "for j in range(1,58):\n",
    "    probc += lpSum([x[i][j] for i in range(0,57)]) <= 1\n",
    "\n",
    "#ensuring if the shopper arrives at an item, they will leave it exactly once\n",
    "for j in range(1,57):\n",
    "    probc += lpSum([x[i][j] for i in range(0,57)]) == lpSum([x[j][i] for i in range(1,58)])\n",
    "\n",
    "#connect t and x variables\n",
    "for i in range(0,58):\n",
    "\tfor j in range(0,58):\n",
    "\t\tprobc += t[i][j] <= 100000*x[i][j]\n",
    "\n",
    "#initial time is = to 0\n",
    "probc += y[0] == 0\n",
    "\n",
    "#the next two constraints calculate the running sum of total time required to move to all selected items \n",
    "for j in range(1,58):\n",
    "\tprobc += y[j] == lpSum([t[i][j] for i in range(0,57)])\n",
    "\n",
    "for j in range(0,57):\n",
    "\tprobc += lpSum([t[j][k] for k in range(1,58)]) == y[j] + lpSum([d[j][k]*x[j][k] for k in range(1,58)])\n",
    "\n",
    "#connecting x and u variables\n",
    "for i in range(0,58):\n",
    "\tfor j in range(0,58):\n",
    "\t\tprobc += u[i][j] <= 100000*x[i][j]\n",
    "\n",
    "#initial value of items picked = 0\n",
    "probc += z[0] == 0\n",
    "\n",
    "#the next two constraints calculate running sum of value of items picked for the cart\n",
    "for j in range(1,58):\n",
    "\tprobc += z[j] == lpSum([u[i][j] for i in range(0,57)])\n",
    "\n",
    "#same as above\n",
    "for j in range(0,57):\n",
    "\tprobc += lpSum([u[j][k] for k in range(1,58)]) == z[j] + lpSum([v[k]*x[j][k] for k in range(1,58)])\n",
    "\n",
    "#shopper must leave from the starting point\n",
    "probc += lpSum([x[0][j] for j in range(1,58)]) == 1\n",
    "\n",
    "#shopper must end at the starting point\n",
    "probc += lpSum([x[i][57] for i in range(0,57)]) == 1\n",
    "\n",
    "#shopper should not go to starting point any time during the sweep\n",
    "probc += lpSum([x[i][0] for i in range(1,58)]) == 0\n",
    "\n",
    "#shopper should not go to the end point any time during the sweep\n",
    "probc += lpSum([x[57][j] for j in range(0,57)]) == 0\n",
    "\n",
    "#shopper should not go to the same item twice\n",
    "for i in range(0,58):\n",
    "\tprobc += x[i][i] == 0\n",
    "\n",
    "#total time should be less than 90s\n",
    "probc += y[57] + (lpSum([x[i][j] for j in range(1,58) for i in range(0,57)]) - 1)*2 <= 90\n",
    "\n",
    "#non-negativity constraints\n",
    "for i in range(0,58):\n",
    "\tfor j in range(0,58):\n",
    "\t\tprobc += t[i][j] >= 0\n",
    "\n",
    "for i in range(0,58):\n",
    "\tfor j in range(0,58):\n",
    "\t\tprobc += u[i][j] >= 0"
   ]
  },
  {
   "cell_type": "code",
   "execution_count": 45,
   "id": "1d4c9504",
   "metadata": {},
   "outputs": [
    {
     "data": {
      "text/plain": [
       "1"
      ]
     },
     "execution_count": 45,
     "metadata": {},
     "output_type": "execute_result"
    }
   ],
   "source": [
    "probc.solve(GUROBI_CMD())"
   ]
  },
  {
   "cell_type": "code",
   "execution_count": 46,
   "id": "bf24c830",
   "metadata": {},
   "outputs": [
    {
     "name": "stdout",
     "output_type": "stream",
     "text": [
      "Optimal Value: 132.88\n"
     ]
    }
   ],
   "source": [
    "print('Optimal Value: {}'.format(round(value(probc.objective),2)))"
   ]
  },
  {
   "cell_type": "code",
   "execution_count": 47,
   "id": "ebb9a436",
   "metadata": {},
   "outputs": [],
   "source": [
    "#13 items\n",
    "\n",
    "#define the problem\n",
    "probd = LpProblem(\"Supermarketsweep13\", LpMaximize)\n",
    "x = LpVariable.dicts(\"x\", (range(0,58), range(0,58)), 0, cat='Binary')\n",
    "t = LpVariable.dicts(\"t\", (range(0,58), range(0,58)), 0)\n",
    "y = LpVariable.dicts(\"y\", range(0,58), 0)\n",
    "u = LpVariable.dicts(\"u\", (range(0,58), range(0,58)), 0)\n",
    "z = LpVariable.dicts(\"z\", range(0,58), 0)\n",
    "\n",
    "#objective function: maximize the value of all items selected for the cart\n",
    "probd += z[57]\n",
    "\n",
    "#total number of items picked should be less than or equal to 13\n",
    "probd += lpSum([x[i][j] for j in range(1,58) for i in range(0,57)]) <= 14\n",
    "\n",
    "#ensuring each product is selected only once\n",
    "for i in range(0,57):\n",
    "    probd += lpSum([x[i][j] for j in range(1,58)]) <= 1\n",
    "\n",
    "#ensuring the shopper arrives at each item a maximum of one time\n",
    "for j in range(1,58):\n",
    "    probd += lpSum([x[i][j] for i in range(0,57)]) <= 1\n",
    "\n",
    "#ensuring if the shopper arrives at an item, they will leave it exactly once\n",
    "for j in range(1,57):\n",
    "    probd += lpSum([x[i][j] for i in range(0,57)]) == lpSum([x[j][i] for i in range(1,58)])\n",
    "\n",
    "#connect t and x variables\n",
    "for i in range(0,58):\n",
    "\tfor j in range(0,58):\n",
    "\t\tprobd += t[i][j] <= 100000*x[i][j]\n",
    "\n",
    "#initial time is = to 0\n",
    "probd += y[0] == 0\n",
    "\n",
    "#the next two constraints calculate the running sum of total time required to move to all selected items \n",
    "for j in range(1,58):\n",
    "\tprobd += y[j] == lpSum([t[i][j] for i in range(0,57)])\n",
    "\n",
    "for j in range(0,57):\n",
    "\tprobd += lpSum([t[j][k] for k in range(1,58)]) == y[j] + lpSum([d[j][k]*x[j][k] for k in range(1,58)])\n",
    "\n",
    "#connecting x and u variables\n",
    "for i in range(0,58):\n",
    "\tfor j in range(0,58):\n",
    "\t\tprobd += u[i][j] <= 100000*x[i][j]\n",
    "\n",
    "#initial value of items picked = 0\n",
    "probd += z[0] == 0\n",
    "\n",
    "#the next two constraints calculate running sum of value of items picked for the cart\n",
    "for j in range(1,58):\n",
    "\tprobd += z[j] == lpSum([u[i][j] for i in range(0,57)])\n",
    "\n",
    "#same as above\n",
    "for j in range(0,57):\n",
    "\tprobd += lpSum([u[j][k] for k in range(1,58)]) == z[j] + lpSum([v[k]*x[j][k] for k in range(1,58)])\n",
    "\n",
    "#shopper must leave from the starting point\n",
    "probd += lpSum([x[0][j] for j in range(1,58)]) == 1\n",
    "\n",
    "#shopper must end at the starting point\n",
    "probd += lpSum([x[i][57] for i in range(0,57)]) == 1\n",
    "\n",
    "#shopper should not go to starting point any time during the sweep\n",
    "probd += lpSum([x[i][0] for i in range(1,58)]) == 0\n",
    "\n",
    "#shopper should not go to the end point any time during the sweep\n",
    "probd += lpSum([x[57][j] for j in range(0,57)]) == 0\n",
    "\n",
    "#shopper should not go to the same item twice\n",
    "for i in range(0,58):\n",
    "\tprobd += x[i][i] == 0\n",
    "\n",
    "#total time should be less than 90s\n",
    "probd += y[57] + (lpSum([x[i][j] for j in range(1,58) for i in range(0,57)]) - 1)*2 <= 90\n",
    "\n",
    "#non-negativity constraints\n",
    "for i in range(0,58):\n",
    "\tfor j in range(0,58):\n",
    "\t\tprobd += t[i][j] >= 0\n",
    "\n",
    "for i in range(0,58):\n",
    "\tfor j in range(0,58):\n",
    "\t\tprobd += u[i][j] >= 0"
   ]
  },
  {
   "cell_type": "code",
   "execution_count": 48,
   "id": "87e70e24",
   "metadata": {},
   "outputs": [
    {
     "data": {
      "text/plain": [
       "1"
      ]
     },
     "execution_count": 48,
     "metadata": {},
     "output_type": "execute_result"
    }
   ],
   "source": [
    "probd.solve(GUROBI_CMD())"
   ]
  },
  {
   "cell_type": "code",
   "execution_count": 49,
   "id": "131b0630",
   "metadata": {},
   "outputs": [
    {
     "name": "stdout",
     "output_type": "stream",
     "text": [
      "Optimal Value: 138.37\n"
     ]
    }
   ],
   "source": [
    "print('Optimal Value: {}'.format(round(value(probd.objective),2)))"
   ]
  },
  {
   "cell_type": "code",
   "execution_count": 50,
   "id": "233a93ff",
   "metadata": {},
   "outputs": [],
   "source": [
    "#14 items\n",
    "\n",
    "#define the problem\n",
    "probe = LpProblem(\"Supermarketsweep14\", LpMaximize)\n",
    "x = LpVariable.dicts(\"x\", (range(0,58), range(0,58)), 0, cat='Binary')\n",
    "t = LpVariable.dicts(\"t\", (range(0,58), range(0,58)), 0)\n",
    "y = LpVariable.dicts(\"y\", range(0,58), 0)\n",
    "u = LpVariable.dicts(\"u\", (range(0,58), range(0,58)), 0)\n",
    "z = LpVariable.dicts(\"z\", range(0,58), 0)\n",
    "\n",
    "#objective function: maximize the value of all items selected for the cart\n",
    "probe += z[57]\n",
    "\n",
    "#total number of items picked should be less than or equal to 14\n",
    "probe += lpSum([x[i][j] for j in range(1,58) for i in range(0,57)]) <= 15\n",
    "\n",
    "#ensuring each product is selected only once\n",
    "for i in range(0,57):\n",
    "    probe += lpSum([x[i][j] for j in range(1,58)]) <= 1\n",
    "\n",
    "#ensuring the shopper arrives at each item a maximum of one time\n",
    "for j in range(1,58):\n",
    "    probe += lpSum([x[i][j] for i in range(0,57)]) <= 1\n",
    "\n",
    "#ensuring if the shopper arrives at an item, they will leave it exactly once\n",
    "for j in range(1,57):\n",
    "    probe += lpSum([x[i][j] for i in range(0,57)]) == lpSum([x[j][i] for i in range(1,58)])\n",
    "\n",
    "#connect t and x variables\n",
    "for i in range(0,58):\n",
    "\tfor j in range(0,58):\n",
    "\t\tprobe += t[i][j] <= 100000*x[i][j]\n",
    "\n",
    "#initial time is = to 0\n",
    "probe += y[0] == 0\n",
    "\n",
    "#the next two constraints calculate the running sum of total time required to move to all selected items \n",
    "for j in range(1,58):\n",
    "\tprobe += y[j] == lpSum([t[i][j] for i in range(0,57)])\n",
    "\n",
    "for j in range(0,57):\n",
    "\tprobe += lpSum([t[j][k] for k in range(1,58)]) == y[j] + lpSum([d[j][k]*x[j][k] for k in range(1,58)])\n",
    "\n",
    "#connecting x and u variables\n",
    "for i in range(0,58):\n",
    "\tfor j in range(0,58):\n",
    "\t\tprobe += u[i][j] <= 100000*x[i][j]\n",
    "\n",
    "#initial value of items picked = 0\n",
    "probe += z[0] == 0\n",
    "\n",
    "#the next two constraints calculate running sum of value of items picked for the cart\n",
    "for j in range(1,58):\n",
    "\tprobe += z[j] == lpSum([u[i][j] for i in range(0,57)])\n",
    "\n",
    "#same as above\n",
    "for j in range(0,57):\n",
    "\tprobe += lpSum([u[j][k] for k in range(1,58)]) == z[j] + lpSum([v[k]*x[j][k] for k in range(1,58)])\n",
    "\n",
    "#shopper must leave from the starting point\n",
    "probe += lpSum([x[0][j] for j in range(1,58)]) == 1\n",
    "\n",
    "#shopper must end at the starting point\n",
    "probe += lpSum([x[i][57] for i in range(0,57)]) == 1\n",
    "\n",
    "#shopper should not go to starting point any time during the sweep\n",
    "probe += lpSum([x[i][0] for i in range(1,58)]) == 0\n",
    "\n",
    "#shopper should not go to the end point any time during the sweep\n",
    "probe += lpSum([x[57][j] for j in range(0,57)]) == 0\n",
    "\n",
    "#shopper should not go to the same item twice\n",
    "for i in range(0,58):\n",
    "\tprobe += x[i][i] == 0\n",
    "\n",
    "#total time should be less than 90s\n",
    "probe += y[57] + (lpSum([x[i][j] for j in range(1,58) for i in range(0,57)]) - 1)*2 <= 90\n",
    "\n",
    "#non-negativity constraints\n",
    "for i in range(0,58):\n",
    "\tfor j in range(0,58):\n",
    "\t\tprobe += t[i][j] >= 0\n",
    "\n",
    "for i in range(0,58):\n",
    "\tfor j in range(0,58):\n",
    "\t\tprobe += u[i][j] >= 0"
   ]
  },
  {
   "cell_type": "code",
   "execution_count": 51,
   "id": "5c6ee12c",
   "metadata": {},
   "outputs": [
    {
     "data": {
      "text/plain": [
       "1"
      ]
     },
     "execution_count": 51,
     "metadata": {},
     "output_type": "execute_result"
    }
   ],
   "source": [
    "probe.solve(GUROBI_CMD())"
   ]
  },
  {
   "cell_type": "code",
   "execution_count": 53,
   "id": "4a240b9f",
   "metadata": {},
   "outputs": [
    {
     "name": "stdout",
     "output_type": "stream",
     "text": [
      "Optimal Value: 140.06\n"
     ]
    }
   ],
   "source": [
    "print('Optimal Value: {}'.format(round(value(probe.objective),2)))"
   ]
  },
  {
   "cell_type": "code",
   "execution_count": 54,
   "id": "d11d2817",
   "metadata": {},
   "outputs": [],
   "source": [
    "#16 items\n",
    "\n",
    "#define the problem\n",
    "probf = LpProblem(\"Supermarketsweep16\", LpMaximize)\n",
    "x = LpVariable.dicts(\"x\", (range(0,58), range(0,58)), 0, cat='Binary')\n",
    "t = LpVariable.dicts(\"t\", (range(0,58), range(0,58)), 0)\n",
    "y = LpVariable.dicts(\"y\", range(0,58), 0)\n",
    "u = LpVariable.dicts(\"u\", (range(0,58), range(0,58)), 0)\n",
    "z = LpVariable.dicts(\"z\", range(0,58), 0)\n",
    "\n",
    "#objective function: maximize the value of all items selected for the cart\n",
    "probf += z[57]\n",
    "\n",
    "#total number of items picked should be less than or equal to 16\n",
    "probf += lpSum([x[i][j] for j in range(1,58) for i in range(0,57)]) <= 17\n",
    "\n",
    "#ensuring each product is selected only once\n",
    "for i in range(0,57):\n",
    "    probf += lpSum([x[i][j] for j in range(1,58)]) <= 1\n",
    "\n",
    "#ensuring the shopper arrives at each item a maximum of one time\n",
    "for j in range(1,58):\n",
    "    probf += lpSum([x[i][j] for i in range(0,57)]) <= 1\n",
    "\n",
    "#ensuring if the shopper arrives at an item, they will leave it exactly once\n",
    "for j in range(1,57):\n",
    "    probf += lpSum([x[i][j] for i in range(0,57)]) == lpSum([x[j][i] for i in range(1,58)])\n",
    "\n",
    "#connect t and x variables\n",
    "for i in range(0,58):\n",
    "\tfor j in range(0,58):\n",
    "\t\tprobf += t[i][j] <= 100000*x[i][j]\n",
    "\n",
    "#initial time is = to 0\n",
    "probf += y[0] == 0\n",
    "\n",
    "#the next two constraints calculate the running sum of total time required to move to all selected items \n",
    "for j in range(1,58):\n",
    "\tprobf += y[j] == lpSum([t[i][j] for i in range(0,57)])\n",
    "\n",
    "for j in range(0,57):\n",
    "\tprobf += lpSum([t[j][k] for k in range(1,58)]) == y[j] + lpSum([d[j][k]*x[j][k] for k in range(1,58)])\n",
    "\n",
    "#connecting x and u variables\n",
    "for i in range(0,58):\n",
    "\tfor j in range(0,58):\n",
    "\t\tprobf += u[i][j] <= 100000*x[i][j]\n",
    "\n",
    "#initial value of items picked = 0\n",
    "probf += z[0] == 0\n",
    "\n",
    "#the next two constraints calculate running sum of value of items picked for the cart\n",
    "for j in range(1,58):\n",
    "\tprobf += z[j] == lpSum([u[i][j] for i in range(0,57)])\n",
    "\n",
    "#same as above\n",
    "for j in range(0,57):\n",
    "\tprobf += lpSum([u[j][k] for k in range(1,58)]) == z[j] + lpSum([v[k]*x[j][k] for k in range(1,58)])\n",
    "\n",
    "#shopper must leave from the starting point\n",
    "probf += lpSum([x[0][j] for j in range(1,58)]) == 1\n",
    "\n",
    "#shopper must end at the starting point\n",
    "probf += lpSum([x[i][57] for i in range(0,57)]) == 1\n",
    "\n",
    "#shopper should not go to starting point any time during the sweep\n",
    "probf += lpSum([x[i][0] for i in range(1,58)]) == 0\n",
    "\n",
    "#shopper should not go to the end point any time during the sweep\n",
    "probf += lpSum([x[57][j] for j in range(0,57)]) == 0\n",
    "\n",
    "#shopper should not go to the same item twice\n",
    "for i in range(0,58):\n",
    "\tprobf += x[i][i] == 0\n",
    "\n",
    "#total time should be less than 90s\n",
    "probf += y[57] + (lpSum([x[i][j] for j in range(1,58) for i in range(0,57)]) - 1)*2 <= 90\n",
    "\n",
    "#non-negativity constraints\n",
    "for i in range(0,58):\n",
    "\tfor j in range(0,58):\n",
    "\t\tprobf += t[i][j] >= 0\n",
    "\n",
    "for i in range(0,58):\n",
    "\tfor j in range(0,58):\n",
    "\t\tprobf += u[i][j] >= 0"
   ]
  },
  {
   "cell_type": "code",
   "execution_count": 55,
   "id": "2371c71a",
   "metadata": {},
   "outputs": [
    {
     "data": {
      "text/plain": [
       "1"
      ]
     },
     "execution_count": 55,
     "metadata": {},
     "output_type": "execute_result"
    }
   ],
   "source": [
    "probf.solve(GUROBI_CMD())"
   ]
  },
  {
   "cell_type": "code",
   "execution_count": 64,
   "id": "cd163b91",
   "metadata": {},
   "outputs": [
    {
     "name": "stdout",
     "output_type": "stream",
     "text": [
      "Optimal Value: 147.64\n"
     ]
    }
   ],
   "source": [
    "print('Optimal Value: {}'.format(round(value(probf.objective),2)))"
   ]
  },
  {
   "cell_type": "code",
   "execution_count": 17,
   "id": "e81fc0cf",
   "metadata": {},
   "outputs": [],
   "source": [
    "#17 items\n",
    "\n",
    "#define the problem\n",
    "probg = LpProblem(\"Supermarketsweep17\", LpMaximize)\n",
    "x = LpVariable.dicts(\"x\", (range(0,58), range(0,58)), 0, cat='Binary')\n",
    "t = LpVariable.dicts(\"t\", (range(0,58), range(0,58)), 0)\n",
    "y = LpVariable.dicts(\"y\", range(0,58), 0)\n",
    "u = LpVariable.dicts(\"u\", (range(0,58), range(0,58)), 0)\n",
    "z = LpVariable.dicts(\"z\", range(0,58), 0)\n",
    "\n",
    "#objective function: maximize the value of all items selected for the cart\n",
    "probg += z[57]\n",
    "\n",
    "#total number of items picked should be less than or equal to 17\n",
    "probg += lpSum([x[i][j] for j in range(1,58) for i in range(0,57)]) <= 18\n",
    "\n",
    "#ensuring each product is selected only once\n",
    "for i in range(0,57):\n",
    "    probg += lpSum([x[i][j] for j in range(1,58)]) <= 1\n",
    "\n",
    "#ensuring the shopper arrives at each item a maximum of one time\n",
    "for j in range(1,58):\n",
    "    probg += lpSum([x[i][j] for i in range(0,57)]) <= 1\n",
    "\n",
    "#ensuring if the shopper arrives at an item, they will leave it exactly once\n",
    "for j in range(1,57):\n",
    "    probg += lpSum([x[i][j] for i in range(0,57)]) == lpSum([x[j][i] for i in range(1,58)])\n",
    "\n",
    "#connect t and x variables\n",
    "for i in range(0,58):\n",
    "\tfor j in range(0,58):\n",
    "\t\tprobg += t[i][j] <= 100000*x[i][j]\n",
    "\n",
    "#initial time is = to 0\n",
    "probg += y[0] == 0\n",
    "\n",
    "#the next two constraints calculate the running sum of total time required to move to all selected items \n",
    "for j in range(1,58):\n",
    "\tprobg += y[j] == lpSum([t[i][j] for i in range(0,57)])\n",
    "\n",
    "for j in range(0,57):\n",
    "\tprobg += lpSum([t[j][k] for k in range(1,58)]) == y[j] + lpSum([d[j][k]*x[j][k] for k in range(1,58)])\n",
    "\n",
    "#connecting x and u variables\n",
    "for i in range(0,58):\n",
    "\tfor j in range(0,58):\n",
    "\t\tprobg += u[i][j] <= 100000*x[i][j]\n",
    "\n",
    "#initial value of items picked = 0\n",
    "probg += z[0] == 0\n",
    "\n",
    "#the next two constraints calculate running sum of value of items picked for the cart\n",
    "for j in range(1,58):\n",
    "\tprobg += z[j] == lpSum([u[i][j] for i in range(0,57)])\n",
    "\n",
    "#same as above\n",
    "for j in range(0,57):\n",
    "\tprobg += lpSum([u[j][k] for k in range(1,58)]) == z[j] + lpSum([v[k]*x[j][k] for k in range(1,58)])\n",
    "\n",
    "#shopper must leave from the starting point\n",
    "probg += lpSum([x[0][j] for j in range(1,58)]) == 1\n",
    "\n",
    "#shopper must end at the starting point\n",
    "probg += lpSum([x[i][57] for i in range(0,57)]) == 1\n",
    "\n",
    "#shopper should not go to starting point any time during the sweep\n",
    "probg += lpSum([x[i][0] for i in range(1,58)]) == 0\n",
    "\n",
    "#shopper should not go to the end point any time during the sweep\n",
    "probg += lpSum([x[57][j] for j in range(0,57)]) == 0\n",
    "\n",
    "#shopper should not go to the same item twice\n",
    "for i in range(0,58):\n",
    "\tprobg += x[i][i] == 0\n",
    "\n",
    "#total time should be less than 90s\n",
    "probg += y[57] + (lpSum([x[i][j] for j in range(1,58) for i in range(0,57)]) - 1)*2 <= 90\n",
    "\n",
    "#non-negativity constraints\n",
    "for i in range(0,58):\n",
    "\tfor j in range(0,58):\n",
    "\t\tprobg += t[i][j] >= 0\n",
    "\n",
    "for i in range(0,58):\n",
    "\tfor j in range(0,58):\n",
    "\t\tprobg += u[i][j] >= 0"
   ]
  },
  {
   "cell_type": "code",
   "execution_count": 18,
   "id": "9b1d2346",
   "metadata": {},
   "outputs": [
    {
     "data": {
      "text/plain": [
       "1"
      ]
     },
     "execution_count": 18,
     "metadata": {},
     "output_type": "execute_result"
    }
   ],
   "source": [
    "probg.solve(GUROBI_CMD())"
   ]
  },
  {
   "cell_type": "code",
   "execution_count": 19,
   "id": "c8f244e7",
   "metadata": {},
   "outputs": [
    {
     "name": "stdout",
     "output_type": "stream",
     "text": [
      "Optimal Value: 147.83\n"
     ]
    }
   ],
   "source": [
    "print('Optimal Value: {}'.format(round(value(probg.objective),2)))"
   ]
  },
  {
   "cell_type": "code",
   "execution_count": 20,
   "id": "4a32e97e",
   "metadata": {},
   "outputs": [],
   "source": [
    "#18 items\n",
    "\n",
    "#define the problem\n",
    "probh = LpProblem(\"Supermarketsweep18\", LpMaximize)\n",
    "x = LpVariable.dicts(\"x\", (range(0,58), range(0,58)), 0, cat='Binary')\n",
    "t = LpVariable.dicts(\"t\", (range(0,58), range(0,58)), 0)\n",
    "y = LpVariable.dicts(\"y\", range(0,58), 0)\n",
    "u = LpVariable.dicts(\"u\", (range(0,58), range(0,58)), 0)\n",
    "z = LpVariable.dicts(\"z\", range(0,58), 0)\n",
    "\n",
    "#objective function: maximize the value of all items selected for the cart\n",
    "probh += z[57]\n",
    "\n",
    "#total number of items picked should be less than or equal to 18\n",
    "probh += lpSum([x[i][j] for j in range(1,58) for i in range(0,57)]) <= 19\n",
    "\n",
    "#ensuring each product is selected only once\n",
    "for i in range(0,57):\n",
    "    probh += lpSum([x[i][j] for j in range(1,58)]) <= 1\n",
    "\n",
    "#ensuring the shopper arrives at each item a maximum of one time\n",
    "for j in range(1,58):\n",
    "    probh += lpSum([x[i][j] for i in range(0,57)]) <= 1\n",
    "\n",
    "#ensuring if the shopper arrives at an item, they will leave it exactly once\n",
    "for j in range(1,57):\n",
    "    probh += lpSum([x[i][j] for i in range(0,57)]) == lpSum([x[j][i] for i in range(1,58)])\n",
    "\n",
    "#connect t and x variables\n",
    "for i in range(0,58):\n",
    "\tfor j in range(0,58):\n",
    "\t\tprobh += t[i][j] <= 100000*x[i][j]\n",
    "\n",
    "#initial time is = to 0\n",
    "probh += y[0] == 0\n",
    "\n",
    "#the next two constraints calculate the running sum of total time required to move to all selected items \n",
    "for j in range(1,58):\n",
    "\tprobh += y[j] == lpSum([t[i][j] for i in range(0,57)])\n",
    "\n",
    "for j in range(0,57):\n",
    "\tprobh += lpSum([t[j][k] for k in range(1,58)]) == y[j] + lpSum([d[j][k]*x[j][k] for k in range(1,58)])\n",
    "\n",
    "#connecting x and u variables\n",
    "for i in range(0,58):\n",
    "\tfor j in range(0,58):\n",
    "\t\tprobh += u[i][j] <= 100000*x[i][j]\n",
    "\n",
    "#initial value of items picked = 0\n",
    "probh += z[0] == 0\n",
    "\n",
    "#the next two constraints calculate running sum of value of items picked for the cart\n",
    "for j in range(1,58):\n",
    "\tprobh += z[j] == lpSum([u[i][j] for i in range(0,57)])\n",
    "\n",
    "#same as above\n",
    "for j in range(0,57):\n",
    "\tprobh += lpSum([u[j][k] for k in range(1,58)]) == z[j] + lpSum([v[k]*x[j][k] for k in range(1,58)])\n",
    "\n",
    "#shopper must leave from the starting point\n",
    "probh += lpSum([x[0][j] for j in range(1,58)]) == 1\n",
    "\n",
    "#shopper must end at the starting point\n",
    "probh += lpSum([x[i][57] for i in range(0,57)]) == 1\n",
    "\n",
    "#shopper should not go to starting point any time during the sweep\n",
    "probh += lpSum([x[i][0] for i in range(1,58)]) == 0\n",
    "\n",
    "#shopper should not go to the end point any time during the sweep\n",
    "probh += lpSum([x[57][j] for j in range(0,57)]) == 0\n",
    "\n",
    "#shopper should not go to the same item twice\n",
    "for i in range(0,58):\n",
    "\tprobh += x[i][i] == 0\n",
    "\n",
    "#total time should be less than 90s\n",
    "probh += y[57] + (lpSum([x[i][j] for j in range(1,58) for i in range(0,57)]) - 1)*2 <= 90\n",
    "\n",
    "#non-negativity constraints\n",
    "for i in range(0,58):\n",
    "\tfor j in range(0,58):\n",
    "\t\tprobh += t[i][j] >= 0\n",
    "\n",
    "for i in range(0,58):\n",
    "\tfor j in range(0,58):\n",
    "\t\tprobh += u[i][j] >= 0"
   ]
  },
  {
   "cell_type": "code",
   "execution_count": 21,
   "id": "3cb797fa",
   "metadata": {},
   "outputs": [
    {
     "data": {
      "text/plain": [
       "1"
      ]
     },
     "execution_count": 21,
     "metadata": {},
     "output_type": "execute_result"
    }
   ],
   "source": [
    "probh.solve(GUROBI_CMD())"
   ]
  },
  {
   "cell_type": "code",
   "execution_count": 22,
   "id": "614557b1",
   "metadata": {},
   "outputs": [
    {
     "name": "stdout",
     "output_type": "stream",
     "text": [
      "Optimal Value: 148.82\n"
     ]
    }
   ],
   "source": [
    "print('Optimal Value: {}'.format(round(value(probh.objective),2)))"
   ]
  },
  {
   "cell_type": "code",
   "execution_count": 23,
   "id": "e288808a",
   "metadata": {},
   "outputs": [],
   "source": [
    "#19 items\n",
    "\n",
    "#define the problem\n",
    "probi = LpProblem(\"Supermarketsweep19\", LpMaximize)\n",
    "x = LpVariable.dicts(\"x\", (range(0,58), range(0,58)), 0, cat='Binary')\n",
    "t = LpVariable.dicts(\"t\", (range(0,58), range(0,58)), 0)\n",
    "y = LpVariable.dicts(\"y\", range(0,58), 0)\n",
    "u = LpVariable.dicts(\"u\", (range(0,58), range(0,58)), 0)\n",
    "z = LpVariable.dicts(\"z\", range(0,58), 0)\n",
    "\n",
    "#objective function: maximize the value of all items selected for the cart\n",
    "probi += z[57]\n",
    "\n",
    "#total number of items picked should be less than or equal to 19\n",
    "probi += lpSum([x[i][j] for j in range(1,58) for i in range(0,57)]) <= 20\n",
    "\n",
    "#ensuring each product is selected only once\n",
    "for i in range(0,57):\n",
    "    probi += lpSum([x[i][j] for j in range(1,58)]) <= 1\n",
    "\n",
    "#ensuring the shopper arrives at each item a maximum of one time\n",
    "for j in range(1,58):\n",
    "    probi += lpSum([x[i][j] for i in range(0,57)]) <= 1\n",
    "\n",
    "#ensuring if the shopper arrives at an item, they will leave it exactly once\n",
    "for j in range(1,57):\n",
    "    probi += lpSum([x[i][j] for i in range(0,57)]) == lpSum([x[j][i] for i in range(1,58)])\n",
    "\n",
    "#connect t and x variables\n",
    "for i in range(0,58):\n",
    "\tfor j in range(0,58):\n",
    "\t\tprobi += t[i][j] <= 100000*x[i][j]\n",
    "\n",
    "#initial time is = to 0\n",
    "probi += y[0] == 0\n",
    "\n",
    "#the next two constraints calculate the running sum of total time required to move to all selected items \n",
    "for j in range(1,58):\n",
    "\tprobi += y[j] == lpSum([t[i][j] for i in range(0,57)])\n",
    "\n",
    "for j in range(0,57):\n",
    "\tprobi += lpSum([t[j][k] for k in range(1,58)]) == y[j] + lpSum([d[j][k]*x[j][k] for k in range(1,58)])\n",
    "\n",
    "#connecting x and u variables\n",
    "for i in range(0,58):\n",
    "\tfor j in range(0,58):\n",
    "\t\tprobi += u[i][j] <= 100000*x[i][j]\n",
    "\n",
    "#initial value of items picked = 0\n",
    "probi += z[0] == 0\n",
    "\n",
    "#the next two constraints calculate running sum of value of items picked for the cart\n",
    "for j in range(1,58):\n",
    "\tprobi += z[j] == lpSum([u[i][j] for i in range(0,57)])\n",
    "\n",
    "#same as above\n",
    "for j in range(0,57):\n",
    "\tprobi += lpSum([u[j][k] for k in range(1,58)]) == z[j] + lpSum([v[k]*x[j][k] for k in range(1,58)])\n",
    "\n",
    "#shopper must leave from the starting point\n",
    "probi += lpSum([x[0][j] for j in range(1,58)]) == 1\n",
    "\n",
    "#shopper must end at the starting point\n",
    "probi += lpSum([x[i][57] for i in range(0,57)]) == 1\n",
    "\n",
    "#shopper should not go to starting point any time during the sweep\n",
    "probi += lpSum([x[i][0] for i in range(1,58)]) == 0\n",
    "\n",
    "#shopper should not go to the end point any time during the sweep\n",
    "probi += lpSum([x[57][j] for j in range(0,57)]) == 0\n",
    "\n",
    "#shopper should not go to the same item twice\n",
    "for i in range(0,58):\n",
    "\tprobi += x[i][i] == 0\n",
    "\n",
    "#total time should be less than 90s\n",
    "probi += y[57] + (lpSum([x[i][j] for j in range(1,58) for i in range(0,57)]) - 1)*2 <= 90\n",
    "\n",
    "#non-negativity constraints\n",
    "for i in range(0,58):\n",
    "\tfor j in range(0,58):\n",
    "\t\tprobi += t[i][j] >= 0\n",
    "\n",
    "for i in range(0,58):\n",
    "\tfor j in range(0,58):\n",
    "\t\tprobi += u[i][j] >= 0"
   ]
  },
  {
   "cell_type": "code",
   "execution_count": 24,
   "id": "ee591e52",
   "metadata": {},
   "outputs": [
    {
     "data": {
      "text/plain": [
       "1"
      ]
     },
     "execution_count": 24,
     "metadata": {},
     "output_type": "execute_result"
    }
   ],
   "source": [
    "probi.solve(GUROBI_CMD())"
   ]
  },
  {
   "cell_type": "code",
   "execution_count": 25,
   "id": "eb12514e",
   "metadata": {},
   "outputs": [
    {
     "name": "stdout",
     "output_type": "stream",
     "text": [
      "Optimal Value: 148.82\n"
     ]
    }
   ],
   "source": [
    "print('Optimal Value: {}'.format(round(value(probi.objective),2)))"
   ]
  },
  {
   "cell_type": "code",
   "execution_count": 26,
   "id": "74cbc08e",
   "metadata": {},
   "outputs": [],
   "source": [
    "#20 items\n",
    "\n",
    "#define the problem\n",
    "probj = LpProblem(\"Supermarketsweep20\", LpMaximize)\n",
    "x = LpVariable.dicts(\"x\", (range(0,58), range(0,58)), 0, cat='Binary')\n",
    "t = LpVariable.dicts(\"t\", (range(0,58), range(0,58)), 0)\n",
    "y = LpVariable.dicts(\"y\", range(0,58), 0)\n",
    "u = LpVariable.dicts(\"u\", (range(0,58), range(0,58)), 0)\n",
    "z = LpVariable.dicts(\"z\", range(0,58), 0)\n",
    "\n",
    "#objective function: maximize the value of all items selected for the cart\n",
    "probj += z[57]\n",
    "\n",
    "#total number of items picked should be less than or equal to 20\n",
    "probj += lpSum([x[i][j] for j in range(1,58) for i in range(0,57)]) <= 21\n",
    "\n",
    "#ensuring each product is selected only once\n",
    "for i in range(0,57):\n",
    "    probj += lpSum([x[i][j] for j in range(1,58)]) <= 1\n",
    "\n",
    "#ensuring the shopper arrives at each item a maximum of one time\n",
    "for j in range(1,58):\n",
    "    probj += lpSum([x[i][j] for i in range(0,57)]) <= 1\n",
    "\n",
    "#ensuring if the shopper arrives at an item, they will leave it exactly once\n",
    "for j in range(1,57):\n",
    "    probj += lpSum([x[i][j] for i in range(0,57)]) == lpSum([x[j][i] for i in range(1,58)])\n",
    "\n",
    "#connect t and x variables\n",
    "for i in range(0,58):\n",
    "\tfor j in range(0,58):\n",
    "\t\tprobj += t[i][j] <= 100000*x[i][j]\n",
    "\n",
    "#initial time is = to 0\n",
    "probj += y[0] == 0\n",
    "\n",
    "#the next two constraints calculate the running sum of total time required to move to all selected items \n",
    "for j in range(1,58):\n",
    "\tprobj += y[j] == lpSum([t[i][j] for i in range(0,57)])\n",
    "\n",
    "for j in range(0,57):\n",
    "\tprobj += lpSum([t[j][k] for k in range(1,58)]) == y[j] + lpSum([d[j][k]*x[j][k] for k in range(1,58)])\n",
    "\n",
    "#connecting x and u variables\n",
    "for i in range(0,58):\n",
    "\tfor j in range(0,58):\n",
    "\t\tprobj += u[i][j] <= 100000*x[i][j]\n",
    "\n",
    "#initial value of items picked = 0\n",
    "probj += z[0] == 0\n",
    "\n",
    "#the next two constraints calculate running sum of value of items picked for the cart\n",
    "for j in range(1,58):\n",
    "\tprobj += z[j] == lpSum([u[i][j] for i in range(0,57)])\n",
    "\n",
    "#same as above\n",
    "for j in range(0,57):\n",
    "\tprobj += lpSum([u[j][k] for k in range(1,58)]) == z[j] + lpSum([v[k]*x[j][k] for k in range(1,58)])\n",
    "\n",
    "#shopper must leave from the starting point\n",
    "probj += lpSum([x[0][j] for j in range(1,58)]) == 1\n",
    "\n",
    "#shopper must end at the starting point\n",
    "probj += lpSum([x[i][57] for i in range(0,57)]) == 1\n",
    "\n",
    "#shopper should not go to starting point any time during the sweep\n",
    "probj += lpSum([x[i][0] for i in range(1,58)]) == 0\n",
    "\n",
    "#shopper should not go to the end point any time during the sweep\n",
    "probj += lpSum([x[57][j] for j in range(0,57)]) == 0\n",
    "\n",
    "#shopper should not go to the same item twice\n",
    "for i in range(0,58):\n",
    "\tprobj += x[i][i] == 0\n",
    "\n",
    "#total time should be less than 90s\n",
    "probj += y[57] + (lpSum([x[i][j] for j in range(1,58) for i in range(0,57)]) - 1)*2 <= 90\n",
    "\n",
    "#non-negativity constraints\n",
    "for i in range(0,58):\n",
    "\tfor j in range(0,58):\n",
    "\t\tprobj += t[i][j] >= 0\n",
    "\n",
    "for i in range(0,58):\n",
    "\tfor j in range(0,58):\n",
    "\t\tprobj += u[i][j] >= 0"
   ]
  },
  {
   "cell_type": "code",
   "execution_count": 27,
   "id": "32c1308e",
   "metadata": {},
   "outputs": [
    {
     "data": {
      "text/plain": [
       "1"
      ]
     },
     "execution_count": 27,
     "metadata": {},
     "output_type": "execute_result"
    }
   ],
   "source": [
    "probj.solve(GUROBI_CMD())"
   ]
  },
  {
   "cell_type": "code",
   "execution_count": 28,
   "id": "9288582d",
   "metadata": {},
   "outputs": [
    {
     "name": "stdout",
     "output_type": "stream",
     "text": [
      "Optimal Value: 148.82\n"
     ]
    }
   ],
   "source": [
    "print('Optimal Value: {}'.format(round(value(probj.objective),2)))"
   ]
  },
  {
   "cell_type": "code",
   "execution_count": 30,
   "id": "8fad7138",
   "metadata": {},
   "outputs": [],
   "source": [
    "#store the values\n",
    "x1 = [10, 11, 12, 13, 14, 15, 16, 17, 18, 19, 20]\n",
    "y1 = [118.9, 125.89, 132.88, 138.37, 140.06, 143.85, 147.64, 147.83, 148.82, 148.82, 148.82]"
   ]
  },
  {
   "cell_type": "code",
   "execution_count": 33,
   "id": "7151485d",
   "metadata": {},
   "outputs": [
    {
     "data": {
      "image/png": "[encoded data removed]",
      "text/plain": [
       "<Figure size 432x288 with 1 Axes>"
      ]
     },
     "metadata": {
      "needs_background": "light"
     },
     "output_type": "display_data"
    }
   ],
   "source": [
    "#chart our results\n",
    "plt.plot(x1, y1, '-ok')\n",
    "plt.xlabel(\"Cart Capacity (Number of Items)\")\n",
    "plt.ylabel(\"Total Cart Value\")\n",
    "plt.title(\"Effect of Varying Cart Capacity on Objective Value\");"
   ]
  },
  {
   "cell_type": "markdown",
   "id": "8d661859",
   "metadata": {},
   "source": [
    "## Part f. Effect of Varying MIPGap on Objective Value\n",
    "We will try five other values of MIPGap: a baseline of .0001, then a loosening of the constraint to .001, .01, .1, and 1."
   ]
  },
  {
   "cell_type": "code",
   "execution_count": 7,
   "id": "abfa3781",
   "metadata": {},
   "outputs": [],
   "source": [
    "#MIPGap of .0001 : baseline\n",
    "\n",
    "#define the problem\n",
    "probz = LpProblem(\"SupermarketsweepBaseline\", LpMaximize)\n",
    "x = LpVariable.dicts(\"x\", (range(0,58), range(0,58)), 0, cat='Binary')\n",
    "t = LpVariable.dicts(\"t\", (range(0,58), range(0,58)), 0)\n",
    "y = LpVariable.dicts(\"y\", range(0,58), 0)\n",
    "u = LpVariable.dicts(\"u\", (range(0,58), range(0,58)), 0)\n",
    "z = LpVariable.dicts(\"z\", range(0,58), 0)\n",
    "\n",
    "#objective function: maximize the value of all items selected for the cart\n",
    "probz += z[57]\n",
    "\n",
    "#total number of items picked should be less than or equal to 15\n",
    "probz += lpSum([x[i][j] for j in range(1,58) for i in range(0,57)]) <= 16\n",
    "\n",
    "#1 ensuring each product is selected only once\n",
    "for i in range(0,57):\n",
    "    probz += lpSum([x[i][j] for j in range(1,58)]) <= 1\n",
    "\n",
    "#2 ensuring the shopper arrives at each item a maximum of one time\n",
    "for j in range(1,58):\n",
    "    probz += lpSum([x[i][j] for i in range(0,57)]) <= 1\n",
    "\n",
    "#3 ensuring if the shopper arrives at an item, they will leave it exactly once\n",
    "for j in range(1,57):\n",
    "    probz += lpSum([x[i][j] for i in range(0,57)]) == lpSum([x[j][i] for i in range(1,58)])\n",
    "\n",
    "#4 connect t and x variables\n",
    "for i in range(0,58):\n",
    "\tfor j in range(0,58):\n",
    "\t\tprobz += t[i][j] <= 100000*x[i][j]\n",
    "\n",
    "#5 initial time is = to 0\n",
    "probz += y[0] == 0\n",
    "\n",
    "#6 the next two constraints calculate the running sum of total time required to move to all selected items \n",
    "for j in range(1,58):\n",
    "\tprobz += y[j] == lpSum([t[i][j] for i in range(0,57)])\n",
    "\n",
    "#7\n",
    "for j in range(0,57):\n",
    "\tprobz += lpSum([t[j][k] for k in range(1,58)]) == y[j] + lpSum([d[j][k]*x[j][k] for k in range(1,58)])\n",
    "\n",
    "#8 connecting x and u variables\n",
    "for i in range(0,58):\n",
    "\tfor j in range(0,58):\n",
    "\t\tprobz += u[i][j] <= 100000*x[i][j]\n",
    "\n",
    "#9 initial value of items picked = 0\n",
    "probz += z[0] == 0\n",
    "\n",
    "#10 the next two constraints calculate running sum of value of items picked for the cart\n",
    "for j in range(1,58):\n",
    "\tprobz += z[j] == lpSum([u[i][j] for i in range(0,57)])\n",
    "\n",
    "#11 same as above\n",
    "for j in range(0,57):\n",
    "\tprobz += lpSum([u[j][k] for k in range(1,58)]) == z[j] + lpSum([v[k]*x[j][k] for k in range(1,58)])\n",
    "\n",
    "#12 shopper must leave from the starting point\n",
    "probz += lpSum([x[0][j] for j in range(1,58)]) == 1\n",
    "\n",
    "#13 shopper must end at the starting point\n",
    "probz += lpSum([x[i][57] for i in range(0,57)]) == 1\n",
    "\n",
    "#14 shopper should not go to starting point any time during the sweep\n",
    "probz += lpSum([x[i][0] for i in range(1,58)]) == 0\n",
    "\n",
    "#15 shopper should not go to the end point any time during the sweep\n",
    "probz += lpSum([x[57][j] for j in range(0,57)]) == 0\n",
    "\n",
    "#16 shopper should not go to the same item twice\n",
    "for i in range(0,58):\n",
    "\tprobz += x[i][i] == 0\n",
    "\n",
    "#17 total time should be less than 90s\n",
    "probz += y[57] + (lpSum([x[i][j] for j in range(1,58) for i in range(0,57)]) - 1)*2 <= 90\n",
    "\n",
    "#18 non-negativity constraints\n",
    "for i in range(0,58):\n",
    "\tfor j in range(0,58):\n",
    "\t\tprobz += t[i][j] >= 0\n",
    "\n",
    "#19 for i in range(0,58):\n",
    "\tfor j in range(0,58):\n",
    "\t\tprobz += u[i][j] >= 0"
   ]
  },
  {
   "cell_type": "code",
   "execution_count": null,
   "id": "a335e32c",
   "metadata": {},
   "outputs": [],
   "source": [
    "import time\n",
    "start_time = time.time()\n",
    "probz.solve(GUROBI_CMD())\n",
    "print(\"My program took\", time.time() - start_time, \"to run\")"
   ]
  },
  {
   "cell_type": "code",
   "execution_count": 15,
   "id": "6ac1332c",
   "metadata": {},
   "outputs": [
    {
     "ename": "NameError",
     "evalue": "name 'probz' is not defined",
     "output_type": "error",
     "traceback": [
      "\u001b[1;31m---------------------------------------------------------------------------\u001b[0m",
      "\u001b[1;31mNameError\u001b[0m                                 Traceback (most recent call last)",
      "\u001b[1;32m<ipython-input-15-3c8297861a51>\u001b[0m in \u001b[0;36m<module>\u001b[1;34m\u001b[0m\n\u001b[1;32m----> 1\u001b[1;33m \u001b[0mprint\u001b[0m\u001b[1;33m(\u001b[0m\u001b[1;34m'Optimal Value: {}'\u001b[0m\u001b[1;33m.\u001b[0m\u001b[0mformat\u001b[0m\u001b[1;33m(\u001b[0m\u001b[0mround\u001b[0m\u001b[1;33m(\u001b[0m\u001b[0mvalue\u001b[0m\u001b[1;33m(\u001b[0m\u001b[0mprobz\u001b[0m\u001b[1;33m.\u001b[0m\u001b[0mobjective\u001b[0m\u001b[1;33m)\u001b[0m\u001b[1;33m,\u001b[0m\u001b[1;36m2\u001b[0m\u001b[1;33m)\u001b[0m\u001b[1;33m)\u001b[0m\u001b[1;33m)\u001b[0m\u001b[1;33m\u001b[0m\u001b[1;33m\u001b[0m\u001b[0m\n\u001b[0m\u001b[0;32m      2\u001b[0m \u001b[1;33m\u001b[0m\u001b[0m\n\u001b[0;32m      3\u001b[0m \u001b[1;32mfor\u001b[0m \u001b[0mi\u001b[0m \u001b[1;32min\u001b[0m \u001b[0mrange\u001b[0m\u001b[1;33m(\u001b[0m\u001b[1;36m0\u001b[0m\u001b[1;33m,\u001b[0m\u001b[1;36m58\u001b[0m\u001b[1;33m)\u001b[0m\u001b[1;33m:\u001b[0m\u001b[1;33m\u001b[0m\u001b[1;33m\u001b[0m\u001b[0m\n\u001b[0;32m      4\u001b[0m     \u001b[1;32mfor\u001b[0m \u001b[0mj\u001b[0m \u001b[1;32min\u001b[0m \u001b[0mrange\u001b[0m\u001b[1;33m(\u001b[0m\u001b[1;36m0\u001b[0m\u001b[1;33m,\u001b[0m\u001b[1;36m58\u001b[0m\u001b[1;33m)\u001b[0m\u001b[1;33m:\u001b[0m\u001b[1;33m\u001b[0m\u001b[1;33m\u001b[0m\u001b[0m\n\u001b[0;32m      5\u001b[0m         \u001b[1;32mif\u001b[0m \u001b[0mvalue\u001b[0m\u001b[1;33m(\u001b[0m\u001b[0mx\u001b[0m\u001b[1;33m[\u001b[0m\u001b[0mi\u001b[0m\u001b[1;33m]\u001b[0m\u001b[1;33m[\u001b[0m\u001b[0mj\u001b[0m\u001b[1;33m]\u001b[0m\u001b[1;33m)\u001b[0m \u001b[1;33m>\u001b[0m \u001b[1;36m0.1\u001b[0m\u001b[1;33m:\u001b[0m\u001b[1;33m\u001b[0m\u001b[1;33m\u001b[0m\u001b[0m\n",
      "\u001b[1;31mNameError\u001b[0m: name 'probz' is not defined"
     ]
    }
   ],
   "source": [
    "print('Optimal Value: {}'.format(round(value(probz.objective),2)))"
   ]
  },
  {
   "cell_type": "code",
   "execution_count": 43,
   "id": "8e371ed8",
   "metadata": {},
   "outputs": [
    {
     "name": "stdout",
     "output_type": "stream",
     "text": [
      "The program took 688.9181971549988 s to run\n"
     ]
    }
   ],
   "source": [
    "#test with an MIPGap of .001\n",
    "start_time = time.time()\n",
    "probz.solve(GUROBI_CMD(options=[(\"MIPgap\", 0.001)]))\n",
    "print(\"The program took\", time.time() - start_time, \"s to run\")"
   ]
  },
  {
   "cell_type": "code",
   "execution_count": null,
   "id": "5ac6869c",
   "metadata": {},
   "outputs": [],
   "source": [
    "print('Optimal Value: {}'.format(round(value(probz.objective),2)))"
   ]
  },
  {
   "cell_type": "code",
   "execution_count": null,
   "id": "7bcef490",
   "metadata": {},
   "outputs": [],
   "source": [
    "#test with an MIPGap of .01\n",
    "import time\n",
    "start_time = time.time()\n",
    "probz.solve(GUROBI_CMD(options=[(\"MIPgap\", 0.01)]))\n",
    "print(\"The program took\", time.time() - start_time, \"s to run\")"
   ]
  },
  {
   "cell_type": "code",
   "execution_count": null,
   "id": "7d9f1a1d",
   "metadata": {},
   "outputs": [],
   "source": [
    "print('Optimal Value: {}'.format(round(value(probz.objective),2)))"
   ]
  },
  {
   "cell_type": "code",
   "execution_count": 12,
   "id": "6c47fe67",
   "metadata": {},
   "outputs": [
    {
     "name": "stdout",
     "output_type": "stream",
     "text": [
      "The program took 9.508492946624756 s to run\n"
     ]
    }
   ],
   "source": [
    "#test with an MIPGap of .1\n",
    "start_time = time.time()\n",
    "probz.solve(GUROBI_CMD(options=[(\"MIPgap\", 0.1)]))\n",
    "print(\"The program took\", time.time() - start_time, \"s to run\")"
   ]
  },
  {
   "cell_type": "code",
   "execution_count": 13,
   "id": "fcdb4246",
   "metadata": {},
   "outputs": [
    {
     "name": "stdout",
     "output_type": "stream",
     "text": [
      "Optimal Value: 139.86\n"
     ]
    }
   ],
   "source": [
    "print('Optimal Value: {}'.format(round(value(probz.objective),2)))"
   ]
  },
  {
   "cell_type": "code",
   "execution_count": 10,
   "id": "54656276",
   "metadata": {},
   "outputs": [
    {
     "name": "stdout",
     "output_type": "stream",
     "text": [
      "The program took 5.924500942230225 s to run\n"
     ]
    }
   ],
   "source": [
    "#test with an MIPGap of 1\n",
    "import time\n",
    "start_time = time.time()\n",
    "probz.solve(GUROBI_CMD(options=[(\"MIPgap\", 1)]))\n",
    "print(\"The program took\", time.time() - start_time, \"s to run\")"
   ]
  },
  {
   "cell_type": "code",
   "execution_count": 11,
   "id": "01b3c685",
   "metadata": {},
   "outputs": [
    {
     "name": "stdout",
     "output_type": "stream",
     "text": [
      "Optimal Value: 129.88\n"
     ]
    }
   ],
   "source": [
    "print('Optimal Value: {}'.format(round(value(probz.objective),2)))"
   ]
  },
  {
   "cell_type": "code",
   "execution_count": 47,
   "id": "d02fce5e",
   "metadata": {},
   "outputs": [],
   "source": [
    "#store values for part f\n",
    "x2 = [.0001, .001, .01, .1, 1]\n",
    "y2 = [765.81, 688.92, 519.44, 4.55, 1.36]"
   ]
  },
  {
   "cell_type": "code",
   "execution_count": 48,
   "id": "5aa5eb54",
   "metadata": {},
   "outputs": [
    {
     "data": {
      "image/png": "[encoded data removed]",
      "text/plain": [
       "<Figure size 432x288 with 1 Axes>"
      ]
     },
     "metadata": {
      "needs_background": "light"
     },
     "output_type": "display_data"
    }
   ],
   "source": [
    "#plot the results\n",
    "plt.plot(x2, y2, '-ok')\n",
    "plt.xlabel(\"MIPGap Value\")\n",
    "plt.ylabel(\"Runtime in Seconds\")\n",
    "plt.title(\"Effect of Varying MIPGap on Program Runtime\");"
   ]
  }
 ],
 "metadata": {
  "kernelspec": {
   "display_name": "Python 3",
   "language": "python",
   "name": "python3"
  },
  "language_info": {
   "codemirror_mode": {
    "name": "ipython",
    "version": 3
   },
   "file_extension": ".py",
   "mimetype": "text/x-python",
   "name": "python",
   "nbconvert_exporter": "python",
   "pygments_lexer": "ipython3",
   "version": "3.7.11"
  }
 },
 "nbformat": 4,
 "nbformat_minor": 5
}
